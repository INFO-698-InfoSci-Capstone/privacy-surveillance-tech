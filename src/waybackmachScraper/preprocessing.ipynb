{
 "cells": [
  {
   "cell_type": "code",
   "execution_count": 1,
   "metadata": {},
   "outputs": [
    {
     "name": "stdout",
     "output_type": "stream",
     "text": [
      "Collecting spacy\n",
      "  Using cached spacy-3.8.2.tar.gz (1.3 MB)\n",
      "  Installing build dependencies .error\n",
      "  \u001b[1;31merror\u001b[0m: \u001b[1msubprocess-exited-with-error\u001b[0m\n",
      "  \n",
      "  \u001b[31m×\u001b[0m \u001b[32mpip subprocess to install build dependencies\u001b[0m did not run successfully.\n",
      "  \u001b[31m│\u001b[0m exit code: \u001b[1;36m1\u001b[0m\n",
      "  \u001b[31m╰─>\u001b[0m \u001b[31m[466 lines of output]\u001b[0m\n",
      "  \u001b[31m   \u001b[0m Ignoring numpy: markers 'python_version < \"3.9\"' don't match your environment\n",
      "  \u001b[31m   \u001b[0m Collecting setuptools\n",
      "  \u001b[31m   \u001b[0m   Using cached setuptools-78.1.0-py3-none-any.whl.metadata (6.6 kB)\n",
      "  \u001b[31m   \u001b[0m Collecting cython<3.0,>=0.25\n",
      "  \u001b[31m   \u001b[0m   Using cached Cython-0.29.37-py2.py3-none-any.whl.metadata (3.1 kB)\n",
      "  \u001b[31m   \u001b[0m Collecting cymem<2.1.0,>=2.0.2\n",
      "  \u001b[31m   \u001b[0m   Using cached cymem-2.0.11-cp313-cp313-macosx_11_0_arm64.whl.metadata (8.5 kB)\n",
      "  \u001b[31m   \u001b[0m Collecting preshed<3.1.0,>=3.0.2\n",
      "  \u001b[31m   \u001b[0m   Using cached preshed-3.0.9-cp313-cp313-macosx_15_0_arm64.whl\n",
      "  \u001b[31m   \u001b[0m Collecting murmurhash<1.1.0,>=0.28.0\n",
      "  \u001b[31m   \u001b[0m   Using cached murmurhash-1.0.12-cp313-cp313-macosx_11_0_arm64.whl.metadata (2.1 kB)\n",
      "  \u001b[31m   \u001b[0m Collecting thinc<8.4.0,>=8.3.0\n",
      "  \u001b[31m   \u001b[0m   Using cached thinc-8.3.2.tar.gz (193 kB)\n",
      "  \u001b[31m   \u001b[0m   Installing build dependencies: started\n",
      "  \u001b[31m   \u001b[0m   Installing build dependencies: finished with status 'done'\n",
      "  \u001b[31m   \u001b[0m   Getting requirements to build wheel: started\n",
      "  \u001b[31m   \u001b[0m   Getting requirements to build wheel: finished with status 'done'\n",
      "  \u001b[31m   \u001b[0m   Preparing metadata (pyproject.toml): started\n",
      "  \u001b[31m   \u001b[0m   Preparing metadata (pyproject.toml): finished with status 'done'\n",
      "  \u001b[31m   \u001b[0m Collecting numpy<2.1.0,>=2.0.0\n",
      "  \u001b[31m   \u001b[0m   Using cached numpy-2.0.2-cp313-cp313-macosx_15_0_arm64.whl\n",
      "  \u001b[31m   \u001b[0m Collecting blis<1.1.0,>=1.0.0 (from thinc<8.4.0,>=8.3.0)\n",
      "  \u001b[31m   \u001b[0m   Using cached blis-1.0.2-cp313-cp313-macosx_11_0_arm64.whl.metadata (7.6 kB)\n",
      "  \u001b[31m   \u001b[0m Collecting wasabi<1.2.0,>=0.8.1 (from thinc<8.4.0,>=8.3.0)\n",
      "  \u001b[31m   \u001b[0m   Using cached wasabi-1.1.3-py3-none-any.whl.metadata (28 kB)\n",
      "  \u001b[31m   \u001b[0m Collecting srsly<3.0.0,>=2.4.0 (from thinc<8.4.0,>=8.3.0)\n",
      "  \u001b[31m   \u001b[0m   Using cached srsly-2.5.1-cp313-cp313-macosx_11_0_arm64.whl.metadata (19 kB)\n",
      "  \u001b[31m   \u001b[0m Collecting catalogue<2.1.0,>=2.0.4 (from thinc<8.4.0,>=8.3.0)\n",
      "  \u001b[31m   \u001b[0m   Using cached catalogue-2.0.10-py3-none-any.whl.metadata (14 kB)\n",
      "  \u001b[31m   \u001b[0m Collecting confection<1.0.0,>=0.0.1 (from thinc<8.4.0,>=8.3.0)\n",
      "  \u001b[31m   \u001b[0m   Using cached confection-0.1.5-py3-none-any.whl.metadata (19 kB)\n",
      "  \u001b[31m   \u001b[0m Collecting pydantic!=1.8,!=1.8.1,<3.0.0,>=1.7.4 (from thinc<8.4.0,>=8.3.0)\n",
      "  \u001b[31m   \u001b[0m   Using cached pydantic-2.10.6-py3-none-any.whl.metadata (30 kB)\n",
      "  \u001b[31m   \u001b[0m Collecting packaging>=20.0 (from thinc<8.4.0,>=8.3.0)\n",
      "  \u001b[31m   \u001b[0m   Using cached packaging-24.2-py3-none-any.whl.metadata (3.2 kB)\n",
      "  \u001b[31m   \u001b[0m Collecting annotated-types>=0.6.0 (from pydantic!=1.8,!=1.8.1,<3.0.0,>=1.7.4->thinc<8.4.0,>=8.3.0)\n",
      "  \u001b[31m   \u001b[0m   Using cached annotated_types-0.7.0-py3-none-any.whl.metadata (15 kB)\n",
      "  \u001b[31m   \u001b[0m Collecting pydantic-core==2.27.2 (from pydantic!=1.8,!=1.8.1,<3.0.0,>=1.7.4->thinc<8.4.0,>=8.3.0)\n",
      "  \u001b[31m   \u001b[0m   Using cached pydantic_core-2.27.2-cp313-cp313-macosx_11_0_arm64.whl.metadata (6.6 kB)\n",
      "  \u001b[31m   \u001b[0m Collecting typing-extensions>=4.12.2 (from pydantic!=1.8,!=1.8.1,<3.0.0,>=1.7.4->thinc<8.4.0,>=8.3.0)\n",
      "  \u001b[31m   \u001b[0m   Using cached typing_extensions-4.13.0-py3-none-any.whl.metadata (3.0 kB)\n",
      "  \u001b[31m   \u001b[0m Using cached setuptools-78.1.0-py3-none-any.whl (1.3 MB)\n",
      "  \u001b[31m   \u001b[0m Using cached Cython-0.29.37-py2.py3-none-any.whl (989 kB)\n",
      "  \u001b[31m   \u001b[0m Using cached cymem-2.0.11-cp313-cp313-macosx_11_0_arm64.whl (41 kB)\n",
      "  \u001b[31m   \u001b[0m Using cached murmurhash-1.0.12-cp313-cp313-macosx_11_0_arm64.whl (26 kB)\n",
      "  \u001b[31m   \u001b[0m Using cached blis-1.0.2-cp313-cp313-macosx_11_0_arm64.whl (1.1 MB)\n",
      "  \u001b[31m   \u001b[0m Using cached catalogue-2.0.10-py3-none-any.whl (17 kB)\n",
      "  \u001b[31m   \u001b[0m Using cached confection-0.1.5-py3-none-any.whl (35 kB)\n",
      "  \u001b[31m   \u001b[0m Using cached packaging-24.2-py3-none-any.whl (65 kB)\n",
      "  \u001b[31m   \u001b[0m Using cached pydantic-2.10.6-py3-none-any.whl (431 kB)\n",
      "  \u001b[31m   \u001b[0m Using cached pydantic_core-2.27.2-cp313-cp313-macosx_11_0_arm64.whl (1.8 MB)\n",
      "  \u001b[31m   \u001b[0m Using cached srsly-2.5.1-cp313-cp313-macosx_11_0_arm64.whl (632 kB)\n",
      "  \u001b[31m   \u001b[0m Using cached wasabi-1.1.3-py3-none-any.whl (27 kB)\n",
      "  \u001b[31m   \u001b[0m Using cached annotated_types-0.7.0-py3-none-any.whl (13 kB)\n",
      "  \u001b[31m   \u001b[0m Using cached typing_extensions-4.13.0-py3-none-any.whl (45 kB)\n",
      "  \u001b[31m   \u001b[0m Building wheels for collected packages: thinc\n",
      "  \u001b[31m   \u001b[0m   Building wheel for thinc (pyproject.toml): started\n",
      "  \u001b[31m   \u001b[0m   Building wheel for thinc (pyproject.toml): finished with status 'error'\n",
      "  \u001b[31m   \u001b[0m   \u001b[1;31merror\u001b[0m: \u001b[1msubprocess-exited-with-error\u001b[0m\n",
      "  \u001b[31m   \u001b[0m \n",
      "  \u001b[31m   \u001b[0m   \u001b[31m×\u001b[0m \u001b[32mBuilding wheel for thinc \u001b[0m\u001b[1;32m(\u001b[0m\u001b[32mpyproject.toml\u001b[0m\u001b[1;32m)\u001b[0m did not run successfully.\n",
      "  \u001b[31m   \u001b[0m   \u001b[31m│\u001b[0m exit code: \u001b[1;36m1\u001b[0m\n",
      "  \u001b[31m   \u001b[0m   \u001b[31m╰─>\u001b[0m \u001b[31m[396 lines of output]\u001b[0m\n",
      "  \u001b[31m   \u001b[0m   \u001b[31m   \u001b[0m Cythonizing sources\n",
      "  \u001b[31m   \u001b[0m   \u001b[31m   \u001b[0m /private/var/folders/xj/1r7q_sfd08s1t_ncz1s8zsyw0000gs/T/pip-build-env-rm55hap7/overlay/lib/python3.13/site-packages/setuptools/dist.py:759: SetuptoolsDeprecationWarning: License classifiers are deprecated.\n",
      "  \u001b[31m   \u001b[0m   \u001b[31m   \u001b[0m !!\n",
      "  \u001b[31m   \u001b[0m   \u001b[31m   \u001b[0m\n",
      "  \u001b[31m   \u001b[0m   \u001b[31m   \u001b[0m         ********************************************************************************\n",
      "  \u001b[31m   \u001b[0m   \u001b[31m   \u001b[0m         Please consider removing the following classifiers in favor of a SPDX license expression:\n",
      "  \u001b[31m   \u001b[0m   \u001b[31m   \u001b[0m\n",
      "  \u001b[31m   \u001b[0m   \u001b[31m   \u001b[0m         License :: OSI Approved :: MIT License\n",
      "  \u001b[31m   \u001b[0m   \u001b[31m   \u001b[0m\n",
      "  \u001b[31m   \u001b[0m   \u001b[31m   \u001b[0m         See https://packaging.python.org/en/latest/guides/writing-pyproject-toml/#license for details.\n",
      "  \u001b[31m   \u001b[0m   \u001b[31m   \u001b[0m         ********************************************************************************\n",
      "  \u001b[31m   \u001b[0m   \u001b[31m   \u001b[0m\n",
      "  \u001b[31m   \u001b[0m   \u001b[31m   \u001b[0m !!\n",
      "  \u001b[31m   \u001b[0m   \u001b[31m   \u001b[0m   self._finalize_license_expression()\n",
      "  \u001b[31m   \u001b[0m   \u001b[31m   \u001b[0m running bdist_wheel\n",
      "  \u001b[31m   \u001b[0m   \u001b[31m   \u001b[0m running build\n",
      "  \u001b[31m   \u001b[0m   \u001b[31m   \u001b[0m running build_py\n",
      "  \u001b[31m   \u001b[0m   \u001b[31m   \u001b[0m creating build/lib.macosx-15.0-arm64-cpython-313/thinc\n",
      "  \u001b[31m   \u001b[0m   \u001b[31m   \u001b[0m copying thinc/config.py -> build/lib.macosx-15.0-arm64-cpython-313/thinc\n",
      "  \u001b[31m   \u001b[0m   \u001b[31m   \u001b[0m copying thinc/compat.py -> build/lib.macosx-15.0-arm64-cpython-313/thinc\n",
      "  \u001b[31m   \u001b[0m   \u001b[31m   \u001b[0m copying thinc/util.py -> build/lib.macosx-15.0-arm64-cpython-313/thinc\n",
      "  \u001b[31m   \u001b[0m   \u001b[31m   \u001b[0m copying thinc/__init__.py -> build/lib.macosx-15.0-arm64-cpython-313/thinc\n",
      "  \u001b[31m   \u001b[0m   \u001b[31m   \u001b[0m copying thinc/mypy.py -> build/lib.macosx-15.0-arm64-cpython-313/thinc\n",
      "  \u001b[31m   \u001b[0m   \u001b[31m   \u001b[0m copying thinc/types.py -> build/lib.macosx-15.0-arm64-cpython-313/thinc\n",
      "  \u001b[31m   \u001b[0m   \u001b[31m   \u001b[0m copying thinc/about.py -> build/lib.macosx-15.0-arm64-cpython-313/thinc\n",
      "  \u001b[31m   \u001b[0m   \u001b[31m   \u001b[0m copying thinc/model.py -> build/lib.macosx-15.0-arm64-cpython-313/thinc\n",
      "  \u001b[31m   \u001b[0m   \u001b[31m   \u001b[0m copying thinc/optimizers.py -> build/lib.macosx-15.0-arm64-cpython-313/thinc\n",
      "  \u001b[31m   \u001b[0m   \u001b[31m   \u001b[0m copying thinc/api.py -> build/lib.macosx-15.0-arm64-cpython-313/thinc\n",
      "  \u001b[31m   \u001b[0m   \u001b[31m   \u001b[0m copying thinc/loss.py -> build/lib.macosx-15.0-arm64-cpython-313/thinc\n",
      "  \u001b[31m   \u001b[0m   \u001b[31m   \u001b[0m copying thinc/initializers.py -> build/lib.macosx-15.0-arm64-cpython-313/thinc\n",
      "  \u001b[31m   \u001b[0m   \u001b[31m   \u001b[0m copying thinc/schedules.py -> build/lib.macosx-15.0-arm64-cpython-313/thinc\n",
      "  \u001b[31m   \u001b[0m   \u001b[31m   \u001b[0m creating build/lib.macosx-15.0-arm64-cpython-313/thinc/layers\n",
      "  \u001b[31m   \u001b[0m   \u001b[31m   \u001b[0m copying thinc/layers/remap_ids.py -> build/lib.macosx-15.0-arm64-cpython-313/thinc/layers\n",
      "  \u001b[31m   \u001b[0m   \u001b[31m   \u001b[0m copying thinc/layers/with_debug.py -> build/lib.macosx-15.0-arm64-cpython-313/thinc/layers\n",
      "  \u001b[31m   \u001b[0m   \u001b[31m   \u001b[0m copying thinc/layers/mxnetwrapper.py -> build/lib.macosx-15.0-arm64-cpython-313/thinc/layers\n",
      "  \u001b[31m   \u001b[0m   \u001b[31m   \u001b[0m copying thinc/layers/siamese.py -> build/lib.macosx-15.0-arm64-cpython-313/thinc/layers\n",
      "  \u001b[31m   \u001b[0m   \u001b[31m   \u001b[0m copying thinc/layers/concatenate.py -> build/lib.macosx-15.0-arm64-cpython-313/thinc/layers\n",
      "  \u001b[31m   \u001b[0m   \u001b[31m   \u001b[0m copying thinc/layers/reduce_sum.py -> build/lib.macosx-15.0-arm64-cpython-313/thinc/layers\n",
      "  \u001b[31m   \u001b[0m   \u001b[31m   \u001b[0m copying thinc/layers/softmax_activation.py -> build/lib.macosx-15.0-arm64-cpython-313/thinc/layers\n",
      "  \u001b[31m   \u001b[0m   \u001b[31m   \u001b[0m copying thinc/layers/hashembed.py -> build/lib.macosx-15.0-arm64-cpython-313/thinc/layers\n",
      "  \u001b[31m   \u001b[0m   \u001b[31m   \u001b[0m copying thinc/layers/expand_window.py -> build/lib.macosx-15.0-arm64-cpython-313/thinc/layers\n",
      "  \u001b[31m   \u001b[0m   \u001b[31m   \u001b[0m copying thinc/layers/list2padded.py -> build/lib.macosx-15.0-arm64-cpython-313/thinc/layers\n",
      "  \u001b[31m   \u001b[0m   \u001b[31m   \u001b[0m copying thinc/layers/with_padded.py -> build/lib.macosx-15.0-arm64-cpython-313/thinc/layers\n",
      "  \u001b[31m   \u001b[0m   \u001b[31m   \u001b[0m copying thinc/layers/with_nvtx_range.py -> build/lib.macosx-15.0-arm64-cpython-313/thinc/layers\n",
      "  \u001b[31m   \u001b[0m   \u001b[31m   \u001b[0m copying thinc/layers/layernorm.py -> build/lib.macosx-15.0-arm64-cpython-313/thinc/layers\n",
      "  \u001b[31m   \u001b[0m   \u001b[31m   \u001b[0m copying thinc/layers/maxout.py -> build/lib.macosx-15.0-arm64-cpython-313/thinc/layers\n",
      "  \u001b[31m   \u001b[0m   \u001b[31m   \u001b[0m copying thinc/layers/add.py -> build/lib.macosx-15.0-arm64-cpython-313/thinc/layers\n",
      "  \u001b[31m   \u001b[0m   \u001b[31m   \u001b[0m copying thinc/layers/embed.py -> build/lib.macosx-15.0-arm64-cpython-313/thinc/layers\n",
      "  \u001b[31m   \u001b[0m   \u001b[31m   \u001b[0m copying thinc/layers/residual.py -> build/lib.macosx-15.0-arm64-cpython-313/thinc/layers\n",
      "  \u001b[31m   \u001b[0m   \u001b[31m   \u001b[0m copying thinc/layers/reduce_first.py -> build/lib.macosx-15.0-arm64-cpython-313/thinc/layers\n",
      "  \u001b[31m   \u001b[0m   \u001b[31m   \u001b[0m copying thinc/layers/parametricattention_v2.py -> build/lib.macosx-15.0-arm64-cpython-313/thinc/layers\n",
      "  \u001b[31m   \u001b[0m   \u001b[31m   \u001b[0m copying thinc/layers/chain.py -> build/lib.macosx-15.0-arm64-cpython-313/thinc/layers\n",
      "  \u001b[31m   \u001b[0m   \u001b[31m   \u001b[0m copying thinc/layers/logistic.py -> build/lib.macosx-15.0-arm64-cpython-313/thinc/layers\n",
      "  \u001b[31m   \u001b[0m   \u001b[31m   \u001b[0m copying thinc/layers/linear.py -> build/lib.macosx-15.0-arm64-cpython-313/thinc/layers\n",
      "  \u001b[31m   \u001b[0m   \u001b[31m   \u001b[0m copying thinc/layers/gelu.py -> build/lib.macosx-15.0-arm64-cpython-313/thinc/layers\n",
      "  \u001b[31m   \u001b[0m   \u001b[31m   \u001b[0m copying thinc/layers/with_cpu.py -> build/lib.macosx-15.0-arm64-cpython-313/thinc/layers\n",
      "  \u001b[31m   \u001b[0m   \u001b[31m   \u001b[0m copying thinc/layers/torchscriptwrapper.py -> build/lib.macosx-15.0-arm64-cpython-313/thinc/layers\n",
      "  \u001b[31m   \u001b[0m   \u001b[31m   \u001b[0m copying thinc/layers/mish.py -> build/lib.macosx-15.0-arm64-cpython-313/thinc/layers\n",
      "  \u001b[31m   \u001b[0m   \u001b[31m   \u001b[0m copying thinc/layers/sigmoid_activation.py -> build/lib.macosx-15.0-arm64-cpython-313/thinc/layers\n",
      "  \u001b[31m   \u001b[0m   \u001b[31m   \u001b[0m copying thinc/layers/__init__.py -> build/lib.macosx-15.0-arm64-cpython-313/thinc/layers\n",
      "  \u001b[31m   \u001b[0m   \u001b[31m   \u001b[0m copying thinc/layers/pytorchwrapper.py -> build/lib.macosx-15.0-arm64-cpython-313/thinc/layers\n",
      "  \u001b[31m   \u001b[0m   \u001b[31m   \u001b[0m copying thinc/layers/with_array.py -> build/lib.macosx-15.0-arm64-cpython-313/thinc/layers\n",
      "  \u001b[31m   \u001b[0m   \u001b[31m   \u001b[0m copying thinc/layers/bidirectional.py -> build/lib.macosx-15.0-arm64-cpython-313/thinc/layers\n",
      "  \u001b[31m   \u001b[0m   \u001b[31m   \u001b[0m copying thinc/layers/hard_swish.py -> build/lib.macosx-15.0-arm64-cpython-313/thinc/layers\n",
      "  \u001b[31m   \u001b[0m   \u001b[31m   \u001b[0m copying thinc/layers/uniqued.py -> build/lib.macosx-15.0-arm64-cpython-313/thinc/layers\n",
      "  \u001b[31m   \u001b[0m   \u001b[31m   \u001b[0m copying thinc/layers/padded2list.py -> build/lib.macosx-15.0-arm64-cpython-313/thinc/layers\n",
      "  \u001b[31m   \u001b[0m   \u001b[31m   \u001b[0m copying thinc/layers/cauchysimilarity.py -> build/lib.macosx-15.0-arm64-cpython-313/thinc/layers\n",
      "  \u001b[31m   \u001b[0m   \u001b[31m   \u001b[0m copying thinc/layers/with_array2d.py -> build/lib.macosx-15.0-arm64-cpython-313/thinc/layers\n",
      "  \u001b[31m   \u001b[0m   \u001b[31m   \u001b[0m copying thinc/layers/strings2arrays.py -> build/lib.macosx-15.0-arm64-cpython-313/thinc/layers\n",
      "  \u001b[31m   \u001b[0m   \u001b[31m   \u001b[0m copying thinc/layers/with_getitem.py -> build/lib.macosx-15.0-arm64-cpython-313/thinc/layers\n",
      "  \u001b[31m   \u001b[0m   \u001b[31m   \u001b[0m copying thinc/layers/with_flatten_v2.py -> build/lib.macosx-15.0-arm64-cpython-313/thinc/layers\n",
      "  \u001b[31m   \u001b[0m   \u001b[31m   \u001b[0m copying thinc/layers/clipped_linear.py -> build/lib.macosx-15.0-arm64-cpython-313/thinc/layers\n",
      "  \u001b[31m   \u001b[0m   \u001b[31m   \u001b[0m copying thinc/layers/with_reshape.py -> build/lib.macosx-15.0-arm64-cpython-313/thinc/layers\n",
      "  \u001b[31m   \u001b[0m   \u001b[31m   \u001b[0m copying thinc/layers/tensorflowwrapper.py -> build/lib.macosx-15.0-arm64-cpython-313/thinc/layers\n",
      "  \u001b[31m   \u001b[0m   \u001b[31m   \u001b[0m copying thinc/layers/hard_swish_mobilenet.py -> build/lib.macosx-15.0-arm64-cpython-313/thinc/layers\n",
      "  \u001b[31m   \u001b[0m   \u001b[31m   \u001b[0m copying thinc/layers/noop.py -> build/lib.macosx-15.0-arm64-cpython-313/thinc/layers\n",
      "  \u001b[31m   \u001b[0m   \u001b[31m   \u001b[0m copying thinc/layers/relu.py -> build/lib.macosx-15.0-arm64-cpython-313/thinc/layers\n",
      "  \u001b[31m   \u001b[0m   \u001b[31m   \u001b[0m copying thinc/layers/swish.py -> build/lib.macosx-15.0-arm64-cpython-313/thinc/layers\n",
      "  \u001b[31m   \u001b[0m   \u001b[31m   \u001b[0m copying thinc/layers/with_signpost_interval.py -> build/lib.macosx-15.0-arm64-cpython-313/thinc/layers\n",
      "  \u001b[31m   \u001b[0m   \u001b[31m   \u001b[0m copying thinc/layers/ragged2list.py -> build/lib.macosx-15.0-arm64-cpython-313/thinc/layers\n",
      "  \u001b[31m   \u001b[0m   \u001b[31m   \u001b[0m copying thinc/layers/tuplify.py -> build/lib.macosx-15.0-arm64-cpython-313/thinc/layers\n",
      "  \u001b[31m   \u001b[0m   \u001b[31m   \u001b[0m copying thinc/layers/with_ragged.py -> build/lib.macosx-15.0-arm64-cpython-313/thinc/layers\n",
      "  \u001b[31m   \u001b[0m   \u001b[31m   \u001b[0m copying thinc/layers/list2ragged.py -> build/lib.macosx-15.0-arm64-cpython-313/thinc/layers\n",
      "  \u001b[31m   \u001b[0m   \u001b[31m   \u001b[0m copying thinc/layers/map_list.py -> build/lib.macosx-15.0-arm64-cpython-313/thinc/layers\n",
      "  \u001b[31m   \u001b[0m   \u001b[31m   \u001b[0m copying thinc/layers/dropout.py -> build/lib.macosx-15.0-arm64-cpython-313/thinc/layers\n",
      "  \u001b[31m   \u001b[0m   \u001b[31m   \u001b[0m copying thinc/layers/reduce_last.py -> build/lib.macosx-15.0-arm64-cpython-313/thinc/layers\n",
      "  \u001b[31m   \u001b[0m   \u001b[31m   \u001b[0m copying thinc/layers/list2array.py -> build/lib.macosx-15.0-arm64-cpython-313/thinc/layers\n",
      "  \u001b[31m   \u001b[0m   \u001b[31m   \u001b[0m copying thinc/layers/with_list.py -> build/lib.macosx-15.0-arm64-cpython-313/thinc/layers\n",
      "  \u001b[31m   \u001b[0m   \u001b[31m   \u001b[0m copying thinc/layers/lstm.py -> build/lib.macosx-15.0-arm64-cpython-313/thinc/layers\n",
      "  \u001b[31m   \u001b[0m   \u001b[31m   \u001b[0m copying thinc/layers/reduce_max.py -> build/lib.macosx-15.0-arm64-cpython-313/thinc/layers\n",
      "  \u001b[31m   \u001b[0m   \u001b[31m   \u001b[0m copying thinc/layers/with_flatten.py -> build/lib.macosx-15.0-arm64-cpython-313/thinc/layers\n",
      "  \u001b[31m   \u001b[0m   \u001b[31m   \u001b[0m copying thinc/layers/resizable.py -> build/lib.macosx-15.0-arm64-cpython-313/thinc/layers\n",
      "  \u001b[31m   \u001b[0m   \u001b[31m   \u001b[0m copying thinc/layers/sigmoid.py -> build/lib.macosx-15.0-arm64-cpython-313/thinc/layers\n",
      "  \u001b[31m   \u001b[0m   \u001b[31m   \u001b[0m copying thinc/layers/multisoftmax.py -> build/lib.macosx-15.0-arm64-cpython-313/thinc/layers\n",
      "  \u001b[31m   \u001b[0m   \u001b[31m   \u001b[0m copying thinc/layers/softmax.py -> build/lib.macosx-15.0-arm64-cpython-313/thinc/layers\n",
      "  \u001b[31m   \u001b[0m   \u001b[31m   \u001b[0m copying thinc/layers/reduce_mean.py -> build/lib.macosx-15.0-arm64-cpython-313/thinc/layers\n",
      "  \u001b[31m   \u001b[0m   \u001b[31m   \u001b[0m copying thinc/layers/array_getitem.py -> build/lib.macosx-15.0-arm64-cpython-313/thinc/layers\n",
      "  \u001b[31m   \u001b[0m   \u001b[31m   \u001b[0m copying thinc/layers/dish.py -> build/lib.macosx-15.0-arm64-cpython-313/thinc/layers\n",
      "  \u001b[31m   \u001b[0m   \u001b[31m   \u001b[0m copying thinc/layers/parametricattention.py -> build/lib.macosx-15.0-arm64-cpython-313/thinc/layers\n",
      "  \u001b[31m   \u001b[0m   \u001b[31m   \u001b[0m copying thinc/layers/clone.py -> build/lib.macosx-15.0-arm64-cpython-313/thinc/layers\n",
      "  \u001b[31m   \u001b[0m   \u001b[31m   \u001b[0m creating build/lib.macosx-15.0-arm64-cpython-313/thinc/backends\n",
      "  \u001b[31m   \u001b[0m   \u001b[31m   \u001b[0m copying thinc/backends/mps_ops.py -> build/lib.macosx-15.0-arm64-cpython-313/thinc/backends\n",
      "  \u001b[31m   \u001b[0m   \u001b[31m   \u001b[0m copying thinc/backends/__init__.py -> build/lib.macosx-15.0-arm64-cpython-313/thinc/backends\n",
      "  \u001b[31m   \u001b[0m   \u001b[31m   \u001b[0m copying thinc/backends/_param_server.py -> build/lib.macosx-15.0-arm64-cpython-313/thinc/backends\n",
      "  \u001b[31m   \u001b[0m   \u001b[31m   \u001b[0m copying thinc/backends/cupy_ops.py -> build/lib.macosx-15.0-arm64-cpython-313/thinc/backends\n",
      "  \u001b[31m   \u001b[0m   \u001b[31m   \u001b[0m copying thinc/backends/_custom_kernels.py -> build/lib.macosx-15.0-arm64-cpython-313/thinc/backends\n",
      "  \u001b[31m   \u001b[0m   \u001b[31m   \u001b[0m copying thinc/backends/ops.py -> build/lib.macosx-15.0-arm64-cpython-313/thinc/backends\n",
      "  \u001b[31m   \u001b[0m   \u001b[31m   \u001b[0m copying thinc/backends/_cupy_allocators.py -> build/lib.macosx-15.0-arm64-cpython-313/thinc/backends\n",
      "  \u001b[31m   \u001b[0m   \u001b[31m   \u001b[0m creating build/lib.macosx-15.0-arm64-cpython-313/thinc/tests\n",
      "  \u001b[31m   \u001b[0m   \u001b[31m   \u001b[0m copying thinc/tests/conftest.py -> build/lib.macosx-15.0-arm64-cpython-313/thinc/tests\n",
      "  \u001b[31m   \u001b[0m   \u001b[31m   \u001b[0m copying thinc/tests/enable_mxnet.py -> build/lib.macosx-15.0-arm64-cpython-313/thinc/tests\n",
      "  \u001b[31m   \u001b[0m   \u001b[31m   \u001b[0m copying thinc/tests/strategies.py -> build/lib.macosx-15.0-arm64-cpython-313/thinc/tests\n",
      "  \u001b[31m   \u001b[0m   \u001b[31m   \u001b[0m copying thinc/tests/test_schedules.py -> build/lib.macosx-15.0-arm64-cpython-313/thinc/tests\n",
      "  \u001b[31m   \u001b[0m   \u001b[31m   \u001b[0m copying thinc/tests/util.py -> build/lib.macosx-15.0-arm64-cpython-313/thinc/tests\n",
      "  \u001b[31m   \u001b[0m   \u001b[31m   \u001b[0m copying thinc/tests/test_initializers.py -> build/lib.macosx-15.0-arm64-cpython-313/thinc/tests\n",
      "  \u001b[31m   \u001b[0m   \u001b[31m   \u001b[0m copying thinc/tests/test_optimizers.py -> build/lib.macosx-15.0-arm64-cpython-313/thinc/tests\n",
      "  \u001b[31m   \u001b[0m   \u001b[31m   \u001b[0m copying thinc/tests/__init__.py -> build/lib.macosx-15.0-arm64-cpython-313/thinc/tests\n",
      "  \u001b[31m   \u001b[0m   \u001b[31m   \u001b[0m copying thinc/tests/test_util.py -> build/lib.macosx-15.0-arm64-cpython-313/thinc/tests\n",
      "  \u001b[31m   \u001b[0m   \u001b[31m   \u001b[0m copying thinc/tests/test_indexing.py -> build/lib.macosx-15.0-arm64-cpython-313/thinc/tests\n",
      "  \u001b[31m   \u001b[0m   \u001b[31m   \u001b[0m copying thinc/tests/test_config.py -> build/lib.macosx-15.0-arm64-cpython-313/thinc/tests\n",
      "  \u001b[31m   \u001b[0m   \u001b[31m   \u001b[0m copying thinc/tests/test_serialize.py -> build/lib.macosx-15.0-arm64-cpython-313/thinc/tests\n",
      "  \u001b[31m   \u001b[0m   \u001b[31m   \u001b[0m copying thinc/tests/test_loss.py -> build/lib.macosx-15.0-arm64-cpython-313/thinc/tests\n",
      "  \u001b[31m   \u001b[0m   \u001b[31m   \u001b[0m copying thinc/tests/test_import__all__.py -> build/lib.macosx-15.0-arm64-cpython-313/thinc/tests\n",
      "  \u001b[31m   \u001b[0m   \u001b[31m   \u001b[0m copying thinc/tests/enable_tensorflow.py -> build/lib.macosx-15.0-arm64-cpython-313/thinc/tests\n",
      "  \u001b[31m   \u001b[0m   \u001b[31m   \u001b[0m copying thinc/tests/test_examples.py -> build/lib.macosx-15.0-arm64-cpython-313/thinc/tests\n",
      "  \u001b[31m   \u001b[0m   \u001b[31m   \u001b[0m copying thinc/tests/test_types.py -> build/lib.macosx-15.0-arm64-cpython-313/thinc/tests\n",
      "  \u001b[31m   \u001b[0m   \u001b[31m   \u001b[0m creating build/lib.macosx-15.0-arm64-cpython-313/thinc/extra\n",
      "  \u001b[31m   \u001b[0m   \u001b[31m   \u001b[0m copying thinc/extra/__init__.py -> build/lib.macosx-15.0-arm64-cpython-313/thinc/extra\n",
      "  \u001b[31m   \u001b[0m   \u001b[31m   \u001b[0m creating build/lib.macosx-15.0-arm64-cpython-313/thinc/shims\n",
      "  \u001b[31m   \u001b[0m   \u001b[31m   \u001b[0m copying thinc/shims/mxnet.py -> build/lib.macosx-15.0-arm64-cpython-313/thinc/shims\n",
      "  \u001b[31m   \u001b[0m   \u001b[31m   \u001b[0m copying thinc/shims/__init__.py -> build/lib.macosx-15.0-arm64-cpython-313/thinc/shims\n",
      "  \u001b[31m   \u001b[0m   \u001b[31m   \u001b[0m copying thinc/shims/tensorflow.py -> build/lib.macosx-15.0-arm64-cpython-313/thinc/shims\n",
      "  \u001b[31m   \u001b[0m   \u001b[31m   \u001b[0m copying thinc/shims/pytorch.py -> build/lib.macosx-15.0-arm64-cpython-313/thinc/shims\n",
      "  \u001b[31m   \u001b[0m   \u001b[31m   \u001b[0m copying thinc/shims/torchscript.py -> build/lib.macosx-15.0-arm64-cpython-313/thinc/shims\n",
      "  \u001b[31m   \u001b[0m   \u001b[31m   \u001b[0m copying thinc/shims/pytorch_grad_scaler.py -> build/lib.macosx-15.0-arm64-cpython-313/thinc/shims\n",
      "  \u001b[31m   \u001b[0m   \u001b[31m   \u001b[0m copying thinc/shims/shim.py -> build/lib.macosx-15.0-arm64-cpython-313/thinc/shims\n",
      "  \u001b[31m   \u001b[0m   \u001b[31m   \u001b[0m creating build/lib.macosx-15.0-arm64-cpython-313/thinc/tests/layers\n",
      "  \u001b[31m   \u001b[0m   \u001b[31m   \u001b[0m copying thinc/tests/layers/test_with_flatten.py -> build/lib.macosx-15.0-arm64-cpython-313/thinc/tests/layers\n",
      "  \u001b[31m   \u001b[0m   \u001b[31m   \u001b[0m copying thinc/tests/layers/test_hash_embed.py -> build/lib.macosx-15.0-arm64-cpython-313/thinc/tests/layers\n",
      "  \u001b[31m   \u001b[0m   \u001b[31m   \u001b[0m copying thinc/tests/layers/test_layers_api.py -> build/lib.macosx-15.0-arm64-cpython-313/thinc/tests/layers\n",
      "  \u001b[31m   \u001b[0m   \u001b[31m   \u001b[0m copying thinc/tests/layers/test_with_transforms.py -> build/lib.macosx-15.0-arm64-cpython-313/thinc/tests/layers\n",
      "  \u001b[31m   \u001b[0m   \u001b[31m   \u001b[0m copying thinc/tests/layers/test_sparse_linear.py -> build/lib.macosx-15.0-arm64-cpython-313/thinc/tests/layers\n",
      "  \u001b[31m   \u001b[0m   \u001b[31m   \u001b[0m copying thinc/tests/layers/test_uniqued.py -> build/lib.macosx-15.0-arm64-cpython-313/thinc/tests/layers\n",
      "  \u001b[31m   \u001b[0m   \u001b[31m   \u001b[0m copying thinc/tests/layers/test_combinators.py -> build/lib.macosx-15.0-arm64-cpython-313/thinc/tests/layers\n",
      "  \u001b[31m   \u001b[0m   \u001b[31m   \u001b[0m copying thinc/tests/layers/test_tensorflow_wrapper.py -> build/lib.macosx-15.0-arm64-cpython-313/thinc/tests/layers\n",
      "  \u001b[31m   \u001b[0m   \u001b[31m   \u001b[0m copying thinc/tests/layers/__init__.py -> build/lib.macosx-15.0-arm64-cpython-313/thinc/tests/layers\n",
      "  \u001b[31m   \u001b[0m   \u001b[31m   \u001b[0m copying thinc/tests/layers/test_resizable.py -> build/lib.macosx-15.0-arm64-cpython-313/thinc/tests/layers\n",
      "  \u001b[31m   \u001b[0m   \u001b[31m   \u001b[0m copying thinc/tests/layers/test_mnist.py -> build/lib.macosx-15.0-arm64-cpython-313/thinc/tests/layers\n",
      "  \u001b[31m   \u001b[0m   \u001b[31m   \u001b[0m copying thinc/tests/layers/test_feed_forward.py -> build/lib.macosx-15.0-arm64-cpython-313/thinc/tests/layers\n",
      "  \u001b[31m   \u001b[0m   \u001b[31m   \u001b[0m copying thinc/tests/layers/test_torchscriptwrapper.py -> build/lib.macosx-15.0-arm64-cpython-313/thinc/tests/layers\n",
      "  \u001b[31m   \u001b[0m   \u001b[31m   \u001b[0m copying thinc/tests/layers/test_parametric_attention_v2.py -> build/lib.macosx-15.0-arm64-cpython-313/thinc/tests/layers\n",
      "  \u001b[31m   \u001b[0m   \u001b[31m   \u001b[0m copying thinc/tests/layers/test_reduce.py -> build/lib.macosx-15.0-arm64-cpython-313/thinc/tests/layers\n",
      "  \u001b[31m   \u001b[0m   \u001b[31m   \u001b[0m copying thinc/tests/layers/test_mappers.py -> build/lib.macosx-15.0-arm64-cpython-313/thinc/tests/layers\n",
      "  \u001b[31m   \u001b[0m   \u001b[31m   \u001b[0m copying thinc/tests/layers/test_transforms.py -> build/lib.macosx-15.0-arm64-cpython-313/thinc/tests/layers\n",
      "  \u001b[31m   \u001b[0m   \u001b[31m   \u001b[0m copying thinc/tests/layers/test_linear.py -> build/lib.macosx-15.0-arm64-cpython-313/thinc/tests/layers\n",
      "  \u001b[31m   \u001b[0m   \u001b[31m   \u001b[0m copying thinc/tests/layers/test_softmax.py -> build/lib.macosx-15.0-arm64-cpython-313/thinc/tests/layers\n",
      "  \u001b[31m   \u001b[0m   \u001b[31m   \u001b[0m copying thinc/tests/layers/test_pytorch_wrapper.py -> build/lib.macosx-15.0-arm64-cpython-313/thinc/tests/layers\n",
      "  \u001b[31m   \u001b[0m   \u001b[31m   \u001b[0m copying thinc/tests/layers/test_with_debug.py -> build/lib.macosx-15.0-arm64-cpython-313/thinc/tests/layers\n",
      "  \u001b[31m   \u001b[0m   \u001b[31m   \u001b[0m copying thinc/tests/layers/test_mxnet_wrapper.py -> build/lib.macosx-15.0-arm64-cpython-313/thinc/tests/layers\n",
      "  \u001b[31m   \u001b[0m   \u001b[31m   \u001b[0m copying thinc/tests/layers/test_shim.py -> build/lib.macosx-15.0-arm64-cpython-313/thinc/tests/layers\n",
      "  \u001b[31m   \u001b[0m   \u001b[31m   \u001b[0m copying thinc/tests/layers/test_lstm.py -> build/lib.macosx-15.0-arm64-cpython-313/thinc/tests/layers\n",
      "  \u001b[31m   \u001b[0m   \u001b[31m   \u001b[0m copying thinc/tests/layers/test_basic_tagger.py -> build/lib.macosx-15.0-arm64-cpython-313/thinc/tests/layers\n",
      "  \u001b[31m   \u001b[0m   \u001b[31m   \u001b[0m creating build/lib.macosx-15.0-arm64-cpython-313/thinc/tests/backends\n",
      "  \u001b[31m   \u001b[0m   \u001b[31m   \u001b[0m copying thinc/tests/backends/__init__.py -> build/lib.macosx-15.0-arm64-cpython-313/thinc/tests/backends\n",
      "  \u001b[31m   \u001b[0m   \u001b[31m   \u001b[0m copying thinc/tests/backends/test_ops.py -> build/lib.macosx-15.0-arm64-cpython-313/thinc/tests/backends\n",
      "  \u001b[31m   \u001b[0m   \u001b[31m   \u001b[0m copying thinc/tests/backends/test_mem.py -> build/lib.macosx-15.0-arm64-cpython-313/thinc/tests/backends\n",
      "  \u001b[31m   \u001b[0m   \u001b[31m   \u001b[0m creating build/lib.macosx-15.0-arm64-cpython-313/thinc/tests/extra\n",
      "  \u001b[31m   \u001b[0m   \u001b[31m   \u001b[0m copying thinc/tests/extra/test_beam_search.py -> build/lib.macosx-15.0-arm64-cpython-313/thinc/tests/extra\n",
      "  \u001b[31m   \u001b[0m   \u001b[31m   \u001b[0m copying thinc/tests/extra/__init__.py -> build/lib.macosx-15.0-arm64-cpython-313/thinc/tests/extra\n",
      "  \u001b[31m   \u001b[0m   \u001b[31m   \u001b[0m creating build/lib.macosx-15.0-arm64-cpython-313/thinc/tests/shims\n",
      "  \u001b[31m   \u001b[0m   \u001b[31m   \u001b[0m copying thinc/tests/shims/__init__.py -> build/lib.macosx-15.0-arm64-cpython-313/thinc/tests/shims\n",
      "  \u001b[31m   \u001b[0m   \u001b[31m   \u001b[0m copying thinc/tests/shims/test_pytorch_grad_scaler.py -> build/lib.macosx-15.0-arm64-cpython-313/thinc/tests/shims\n",
      "  \u001b[31m   \u001b[0m   \u001b[31m   \u001b[0m creating build/lib.macosx-15.0-arm64-cpython-313/thinc/tests/mypy\n",
      "  \u001b[31m   \u001b[0m   \u001b[31m   \u001b[0m copying thinc/tests/mypy/test_mypy.py -> build/lib.macosx-15.0-arm64-cpython-313/thinc/tests/mypy\n",
      "  \u001b[31m   \u001b[0m   \u001b[31m   \u001b[0m copying thinc/tests/mypy/__init__.py -> build/lib.macosx-15.0-arm64-cpython-313/thinc/tests/mypy\n",
      "  \u001b[31m   \u001b[0m   \u001b[31m   \u001b[0m creating build/lib.macosx-15.0-arm64-cpython-313/thinc/tests/model\n",
      "  \u001b[31m   \u001b[0m   \u001b[31m   \u001b[0m copying thinc/tests/model/test_model.py -> build/lib.macosx-15.0-arm64-cpython-313/thinc/tests/model\n",
      "  \u001b[31m   \u001b[0m   \u001b[31m   \u001b[0m copying thinc/tests/model/test_validation.py -> build/lib.macosx-15.0-arm64-cpython-313/thinc/tests/model\n",
      "  \u001b[31m   \u001b[0m   \u001b[31m   \u001b[0m copying thinc/tests/model/__init__.py -> build/lib.macosx-15.0-arm64-cpython-313/thinc/tests/model\n",
      "  \u001b[31m   \u001b[0m   \u001b[31m   \u001b[0m creating build/lib.macosx-15.0-arm64-cpython-313/thinc/tests/regression\n",
      "  \u001b[31m   \u001b[0m   \u001b[31m   \u001b[0m copying thinc/tests/regression/__init__.py -> build/lib.macosx-15.0-arm64-cpython-313/thinc/tests/regression\n",
      "  \u001b[31m   \u001b[0m   \u001b[31m   \u001b[0m copying thinc/tests/regression/test_issue208.py -> build/lib.macosx-15.0-arm64-cpython-313/thinc/tests/regression\n",
      "  \u001b[31m   \u001b[0m   \u001b[31m   \u001b[0m copying thinc/tests/regression/test_issue564.py -> build/lib.macosx-15.0-arm64-cpython-313/thinc/tests/regression\n",
      "  \u001b[31m   \u001b[0m   \u001b[31m   \u001b[0m creating build/lib.macosx-15.0-arm64-cpython-313/thinc/tests/mypy/modules\n",
      "  \u001b[31m   \u001b[0m   \u001b[31m   \u001b[0m copying thinc/tests/mypy/modules/fail_no_plugin.py -> build/lib.macosx-15.0-arm64-cpython-313/thinc/tests/mypy/modules\n",
      "  \u001b[31m   \u001b[0m   \u001b[31m   \u001b[0m copying thinc/tests/mypy/modules/success_no_plugin.py -> build/lib.macosx-15.0-arm64-cpython-313/thinc/tests/mypy/modules\n",
      "  \u001b[31m   \u001b[0m   \u001b[31m   \u001b[0m copying thinc/tests/mypy/modules/fail_plugin.py -> build/lib.macosx-15.0-arm64-cpython-313/thinc/tests/mypy/modules\n",
      "  \u001b[31m   \u001b[0m   \u001b[31m   \u001b[0m copying thinc/tests/mypy/modules/__init__.py -> build/lib.macosx-15.0-arm64-cpython-313/thinc/tests/mypy/modules\n",
      "  \u001b[31m   \u001b[0m   \u001b[31m   \u001b[0m copying thinc/tests/mypy/modules/success_plugin.py -> build/lib.macosx-15.0-arm64-cpython-313/thinc/tests/mypy/modules\n",
      "  \u001b[31m   \u001b[0m   \u001b[31m   \u001b[0m creating build/lib.macosx-15.0-arm64-cpython-313/thinc/tests/regression/issue519\n",
      "  \u001b[31m   \u001b[0m   \u001b[31m   \u001b[0m copying thinc/tests/regression/issue519/test_issue519.py -> build/lib.macosx-15.0-arm64-cpython-313/thinc/tests/regression/issue519\n",
      "  \u001b[31m   \u001b[0m   \u001b[31m   \u001b[0m copying thinc/tests/regression/issue519/__init__.py -> build/lib.macosx-15.0-arm64-cpython-313/thinc/tests/regression/issue519\n",
      "  \u001b[31m   \u001b[0m   \u001b[31m   \u001b[0m copying thinc/tests/regression/issue519/program.py -> build/lib.macosx-15.0-arm64-cpython-313/thinc/tests/regression/issue519\n",
      "  \u001b[31m   \u001b[0m   \u001b[31m   \u001b[0m creating build/lib.macosx-15.0-arm64-cpython-313/thinc/extra/tests\n",
      "  \u001b[31m   \u001b[0m   \u001b[31m   \u001b[0m copying thinc/extra/tests/__init__.py -> build/lib.macosx-15.0-arm64-cpython-313/thinc/extra/tests\n",
      "  \u001b[31m   \u001b[0m   \u001b[31m   \u001b[0m running egg_info\n",
      "  \u001b[31m   \u001b[0m   \u001b[31m   \u001b[0m writing thinc.egg-info/PKG-INFO\n",
      "  \u001b[31m   \u001b[0m   \u001b[31m   \u001b[0m writing dependency_links to thinc.egg-info/dependency_links.txt\n",
      "  \u001b[31m   \u001b[0m   \u001b[31m   \u001b[0m writing entry points to thinc.egg-info/entry_points.txt\n",
      "  \u001b[31m   \u001b[0m   \u001b[31m   \u001b[0m writing requirements to thinc.egg-info/requires.txt\n",
      "  \u001b[31m   \u001b[0m   \u001b[31m   \u001b[0m writing top-level names to thinc.egg-info/top_level.txt\n",
      "  \u001b[31m   \u001b[0m   \u001b[31m   \u001b[0m dependency /opt/homebrew/Cellar/python@3.13/3.13.2/Frameworks/Python.framework/Versions/3.13/include/python3.13/Python.h won't be automatically included in the manifest: the path must be relative\n",
      "  \u001b[31m   \u001b[0m   \u001b[31m   \u001b[0m dependency /private/var/folders/xj/1r7q_sfd08s1t_ncz1s8zsyw0000gs/T/pip-build-env-rm55hap7/overlay/lib/python3.13/site-packages/numpy/_core/include/numpy/arrayobject.h won't be automatically included in the manifest: the path must be relative\n",
      "  \u001b[31m   \u001b[0m   \u001b[31m   \u001b[0m dependency /private/var/folders/xj/1r7q_sfd08s1t_ncz1s8zsyw0000gs/T/pip-build-env-rm55hap7/overlay/lib/python3.13/site-packages/numpy/_core/include/numpy/arrayscalars.h won't be automatically included in the manifest: the path must be relative\n",
      "  \u001b[31m   \u001b[0m   \u001b[31m   \u001b[0m dependency /private/var/folders/xj/1r7q_sfd08s1t_ncz1s8zsyw0000gs/T/pip-build-env-rm55hap7/overlay/lib/python3.13/site-packages/numpy/_core/include/numpy/ndarrayobject.h won't be automatically included in the manifest: the path must be relative\n",
      "  \u001b[31m   \u001b[0m   \u001b[31m   \u001b[0m dependency /private/var/folders/xj/1r7q_sfd08s1t_ncz1s8zsyw0000gs/T/pip-build-env-rm55hap7/overlay/lib/python3.13/site-packages/numpy/_core/include/numpy/ndarraytypes.h won't be automatically included in the manifest: the path must be relative\n",
      "  \u001b[31m   \u001b[0m   \u001b[31m   \u001b[0m dependency /private/var/folders/xj/1r7q_sfd08s1t_ncz1s8zsyw0000gs/T/pip-build-env-rm55hap7/overlay/lib/python3.13/site-packages/numpy/_core/include/numpy/ufuncobject.h won't be automatically included in the manifest: the path must be relative\n",
      "  \u001b[31m   \u001b[0m   \u001b[31m   \u001b[0m dependency /opt/homebrew/Cellar/python@3.13/3.13.2/Frameworks/Python.framework/Versions/3.13/include/python3.13/Python.h won't be automatically included in the manifest: the path must be relative\n",
      "  \u001b[31m   \u001b[0m   \u001b[31m   \u001b[0m dependency /private/var/folders/xj/1r7q_sfd08s1t_ncz1s8zsyw0000gs/T/pip-build-env-rm55hap7/overlay/lib/python3.13/site-packages/numpy/_core/include/numpy/arrayobject.h won't be automatically included in the manifest: the path must be relative\n",
      "  \u001b[31m   \u001b[0m   \u001b[31m   \u001b[0m dependency /private/var/folders/xj/1r7q_sfd08s1t_ncz1s8zsyw0000gs/T/pip-build-env-rm55hap7/overlay/lib/python3.13/site-packages/numpy/_core/include/numpy/arrayscalars.h won't be automatically included in the manifest: the path must be relative\n",
      "  \u001b[31m   \u001b[0m   \u001b[31m   \u001b[0m dependency /private/var/folders/xj/1r7q_sfd08s1t_ncz1s8zsyw0000gs/T/pip-build-env-rm55hap7/overlay/lib/python3.13/site-packages/numpy/_core/include/numpy/ndarrayobject.h won't be automatically included in the manifest: the path must be relative\n",
      "  \u001b[31m   \u001b[0m   \u001b[31m   \u001b[0m dependency /private/var/folders/xj/1r7q_sfd08s1t_ncz1s8zsyw0000gs/T/pip-build-env-rm55hap7/overlay/lib/python3.13/site-packages/numpy/_core/include/numpy/ndarraytypes.h won't be automatically included in the manifest: the path must be relative\n",
      "  \u001b[31m   \u001b[0m   \u001b[31m   \u001b[0m dependency /private/var/folders/xj/1r7q_sfd08s1t_ncz1s8zsyw0000gs/T/pip-build-env-rm55hap7/overlay/lib/python3.13/site-packages/numpy/_core/include/numpy/ufuncobject.h won't be automatically included in the manifest: the path must be relative\n",
      "  \u001b[31m   \u001b[0m   \u001b[31m   \u001b[0m reading manifest file 'thinc.egg-info/SOURCES.txt'\n",
      "  \u001b[31m   \u001b[0m   \u001b[31m   \u001b[0m reading manifest template 'MANIFEST.in'\n",
      "  \u001b[31m   \u001b[0m   \u001b[31m   \u001b[0m no previously-included directories found matching 'tmp'\n",
      "  \u001b[31m   \u001b[0m   \u001b[31m   \u001b[0m adding license file 'LICENSE'\n",
      "  \u001b[31m   \u001b[0m   \u001b[31m   \u001b[0m writing manifest file 'thinc.egg-info/SOURCES.txt'\n",
      "  \u001b[31m   \u001b[0m   \u001b[31m   \u001b[0m /private/var/folders/xj/1r7q_sfd08s1t_ncz1s8zsyw0000gs/T/pip-build-env-rm55hap7/overlay/lib/python3.13/site-packages/setuptools/command/build_py.py:212: _Warning: Package 'thinc.tests.mypy.configs' is absent from the `packages` configuration.\n",
      "  \u001b[31m   \u001b[0m   \u001b[31m   \u001b[0m !!\n",
      "  \u001b[31m   \u001b[0m   \u001b[31m   \u001b[0m\n",
      "  \u001b[31m   \u001b[0m   \u001b[31m   \u001b[0m         ********************************************************************************\n",
      "  \u001b[31m   \u001b[0m   \u001b[31m   \u001b[0m         ############################\n",
      "  \u001b[31m   \u001b[0m   \u001b[31m   \u001b[0m         # Package would be ignored #\n",
      "  \u001b[31m   \u001b[0m   \u001b[31m   \u001b[0m         ############################\n",
      "  \u001b[31m   \u001b[0m   \u001b[31m   \u001b[0m         Python recognizes 'thinc.tests.mypy.configs' as an importable package[^1],\n",
      "  \u001b[31m   \u001b[0m   \u001b[31m   \u001b[0m         but it is absent from setuptools' `packages` configuration.\n",
      "  \u001b[31m   \u001b[0m   \u001b[31m   \u001b[0m\n",
      "  \u001b[31m   \u001b[0m   \u001b[31m   \u001b[0m         This leads to an ambiguous overall configuration. If you want to distribute this\n",
      "  \u001b[31m   \u001b[0m   \u001b[31m   \u001b[0m         package, please make sure that 'thinc.tests.mypy.configs' is explicitly added\n",
      "  \u001b[31m   \u001b[0m   \u001b[31m   \u001b[0m         to the `packages` configuration field.\n",
      "  \u001b[31m   \u001b[0m   \u001b[31m   \u001b[0m\n",
      "  \u001b[31m   \u001b[0m   \u001b[31m   \u001b[0m         Alternatively, you can also rely on setuptools' discovery methods\n",
      "  \u001b[31m   \u001b[0m   \u001b[31m   \u001b[0m         (for example by using `find_namespace_packages(...)`/`find_namespace:`\n",
      "  \u001b[31m   \u001b[0m   \u001b[31m   \u001b[0m         instead of `find_packages(...)`/`find:`).\n",
      "  \u001b[31m   \u001b[0m   \u001b[31m   \u001b[0m\n",
      "  \u001b[31m   \u001b[0m   \u001b[31m   \u001b[0m         You can read more about \"package discovery\" on setuptools documentation page:\n",
      "  \u001b[31m   \u001b[0m   \u001b[31m   \u001b[0m\n",
      "  \u001b[31m   \u001b[0m   \u001b[31m   \u001b[0m         - https://setuptools.pypa.io/en/latest/userguide/package_discovery.html\n",
      "  \u001b[31m   \u001b[0m   \u001b[31m   \u001b[0m\n",
      "  \u001b[31m   \u001b[0m   \u001b[31m   \u001b[0m         If you don't want 'thinc.tests.mypy.configs' to be distributed and are\n",
      "  \u001b[31m   \u001b[0m   \u001b[31m   \u001b[0m         already explicitly excluding 'thinc.tests.mypy.configs' via\n",
      "  \u001b[31m   \u001b[0m   \u001b[31m   \u001b[0m         `find_namespace_packages(...)/find_namespace` or `find_packages(...)/find`,\n",
      "  \u001b[31m   \u001b[0m   \u001b[31m   \u001b[0m         you can try to use `exclude_package_data`, or `include-package-data=False` in\n",
      "  \u001b[31m   \u001b[0m   \u001b[31m   \u001b[0m         combination with a more fine grained `package-data` configuration.\n",
      "  \u001b[31m   \u001b[0m   \u001b[31m   \u001b[0m\n",
      "  \u001b[31m   \u001b[0m   \u001b[31m   \u001b[0m         You can read more about \"package data files\" on setuptools documentation page:\n",
      "  \u001b[31m   \u001b[0m   \u001b[31m   \u001b[0m\n",
      "  \u001b[31m   \u001b[0m   \u001b[31m   \u001b[0m         - https://setuptools.pypa.io/en/latest/userguide/datafiles.html\n",
      "  \u001b[31m   \u001b[0m   \u001b[31m   \u001b[0m\n",
      "  \u001b[31m   \u001b[0m   \u001b[31m   \u001b[0m\n",
      "  \u001b[31m   \u001b[0m   \u001b[31m   \u001b[0m         [^1]: For Python, any directory (with suitable naming) can be imported,\n",
      "  \u001b[31m   \u001b[0m   \u001b[31m   \u001b[0m               even if it does not contain any `.py` files.\n",
      "  \u001b[31m   \u001b[0m   \u001b[31m   \u001b[0m               On the other hand, currently there is no concept of package data\n",
      "  \u001b[31m   \u001b[0m   \u001b[31m   \u001b[0m               directory, all directories are treated like packages.\n",
      "  \u001b[31m   \u001b[0m   \u001b[31m   \u001b[0m         ********************************************************************************\n",
      "  \u001b[31m   \u001b[0m   \u001b[31m   \u001b[0m\n",
      "  \u001b[31m   \u001b[0m   \u001b[31m   \u001b[0m !!\n",
      "  \u001b[31m   \u001b[0m   \u001b[31m   \u001b[0m   check.warn(importable)\n",
      "  \u001b[31m   \u001b[0m   \u001b[31m   \u001b[0m /private/var/folders/xj/1r7q_sfd08s1t_ncz1s8zsyw0000gs/T/pip-build-env-rm55hap7/overlay/lib/python3.13/site-packages/setuptools/command/build_py.py:212: _Warning: Package 'thinc.tests.mypy.outputs' is absent from the `packages` configuration.\n",
      "  \u001b[31m   \u001b[0m   \u001b[31m   \u001b[0m !!\n",
      "  \u001b[31m   \u001b[0m   \u001b[31m   \u001b[0m\n",
      "  \u001b[31m   \u001b[0m   \u001b[31m   \u001b[0m         ********************************************************************************\n",
      "  \u001b[31m   \u001b[0m   \u001b[31m   \u001b[0m         ############################\n",
      "  \u001b[31m   \u001b[0m   \u001b[31m   \u001b[0m         # Package would be ignored #\n",
      "  \u001b[31m   \u001b[0m   \u001b[31m   \u001b[0m         ############################\n",
      "  \u001b[31m   \u001b[0m   \u001b[31m   \u001b[0m         Python recognizes 'thinc.tests.mypy.outputs' as an importable package[^1],\n",
      "  \u001b[31m   \u001b[0m   \u001b[31m   \u001b[0m         but it is absent from setuptools' `packages` configuration.\n",
      "  \u001b[31m   \u001b[0m   \u001b[31m   \u001b[0m\n",
      "  \u001b[31m   \u001b[0m   \u001b[31m   \u001b[0m         This leads to an ambiguous overall configuration. If you want to distribute this\n",
      "  \u001b[31m   \u001b[0m   \u001b[31m   \u001b[0m         package, please make sure that 'thinc.tests.mypy.outputs' is explicitly added\n",
      "  \u001b[31m   \u001b[0m   \u001b[31m   \u001b[0m         to the `packages` configuration field.\n",
      "  \u001b[31m   \u001b[0m   \u001b[31m   \u001b[0m\n",
      "  \u001b[31m   \u001b[0m   \u001b[31m   \u001b[0m         Alternatively, you can also rely on setuptools' discovery methods\n",
      "  \u001b[31m   \u001b[0m   \u001b[31m   \u001b[0m         (for example by using `find_namespace_packages(...)`/`find_namespace:`\n",
      "  \u001b[31m   \u001b[0m   \u001b[31m   \u001b[0m         instead of `find_packages(...)`/`find:`).\n",
      "  \u001b[31m   \u001b[0m   \u001b[31m   \u001b[0m\n",
      "  \u001b[31m   \u001b[0m   \u001b[31m   \u001b[0m         You can read more about \"package discovery\" on setuptools documentation page:\n",
      "  \u001b[31m   \u001b[0m   \u001b[31m   \u001b[0m\n",
      "  \u001b[31m   \u001b[0m   \u001b[31m   \u001b[0m         - https://setuptools.pypa.io/en/latest/userguide/package_discovery.html\n",
      "  \u001b[31m   \u001b[0m   \u001b[31m   \u001b[0m\n",
      "  \u001b[31m   \u001b[0m   \u001b[31m   \u001b[0m         If you don't want 'thinc.tests.mypy.outputs' to be distributed and are\n",
      "  \u001b[31m   \u001b[0m   \u001b[31m   \u001b[0m         already explicitly excluding 'thinc.tests.mypy.outputs' via\n",
      "  \u001b[31m   \u001b[0m   \u001b[31m   \u001b[0m         `find_namespace_packages(...)/find_namespace` or `find_packages(...)/find`,\n",
      "  \u001b[31m   \u001b[0m   \u001b[31m   \u001b[0m         you can try to use `exclude_package_data`, or `include-package-data=False` in\n",
      "  \u001b[31m   \u001b[0m   \u001b[31m   \u001b[0m         combination with a more fine grained `package-data` configuration.\n",
      "  \u001b[31m   \u001b[0m   \u001b[31m   \u001b[0m\n",
      "  \u001b[31m   \u001b[0m   \u001b[31m   \u001b[0m         You can read more about \"package data files\" on setuptools documentation page:\n",
      "  \u001b[31m   \u001b[0m   \u001b[31m   \u001b[0m\n",
      "  \u001b[31m   \u001b[0m   \u001b[31m   \u001b[0m         - https://setuptools.pypa.io/en/latest/userguide/datafiles.html\n",
      "  \u001b[31m   \u001b[0m   \u001b[31m   \u001b[0m\n",
      "  \u001b[31m   \u001b[0m   \u001b[31m   \u001b[0m\n",
      "  \u001b[31m   \u001b[0m   \u001b[31m   \u001b[0m         [^1]: For Python, any directory (with suitable naming) can be imported,\n",
      "  \u001b[31m   \u001b[0m   \u001b[31m   \u001b[0m               even if it does not contain any `.py` files.\n",
      "  \u001b[31m   \u001b[0m   \u001b[31m   \u001b[0m               On the other hand, currently there is no concept of package data\n",
      "  \u001b[31m   \u001b[0m   \u001b[31m   \u001b[0m               directory, all directories are treated like packages.\n",
      "  \u001b[31m   \u001b[0m   \u001b[31m   \u001b[0m         ********************************************************************************\n",
      "  \u001b[31m   \u001b[0m   \u001b[31m   \u001b[0m\n",
      "  \u001b[31m   \u001b[0m   \u001b[31m   \u001b[0m !!\n",
      "  \u001b[31m   \u001b[0m   \u001b[31m   \u001b[0m   check.warn(importable)\n",
      "  \u001b[31m   \u001b[0m   \u001b[31m   \u001b[0m copying thinc/__init__.pxd -> build/lib.macosx-15.0-arm64-cpython-313/thinc\n",
      "  \u001b[31m   \u001b[0m   \u001b[31m   \u001b[0m copying thinc/py.typed -> build/lib.macosx-15.0-arm64-cpython-313/thinc\n",
      "  \u001b[31m   \u001b[0m   \u001b[31m   \u001b[0m copying thinc/layers/premap_ids.pyx -> build/lib.macosx-15.0-arm64-cpython-313/thinc/layers\n",
      "  \u001b[31m   \u001b[0m   \u001b[31m   \u001b[0m copying thinc/layers/sparselinear.pyx -> build/lib.macosx-15.0-arm64-cpython-313/thinc/layers\n",
      "  \u001b[31m   \u001b[0m   \u001b[31m   \u001b[0m copying thinc/backends/__init__.pxd -> build/lib.macosx-15.0-arm64-cpython-313/thinc/backends\n",
      "  \u001b[31m   \u001b[0m   \u001b[31m   \u001b[0m copying thinc/backends/_custom_kernels.cu -> build/lib.macosx-15.0-arm64-cpython-313/thinc/backends\n",
      "  \u001b[31m   \u001b[0m   \u001b[31m   \u001b[0m copying thinc/backends/_murmur3.cu -> build/lib.macosx-15.0-arm64-cpython-313/thinc/backends\n",
      "  \u001b[31m   \u001b[0m   \u001b[31m   \u001b[0m copying thinc/backends/cblas.pxd -> build/lib.macosx-15.0-arm64-cpython-313/thinc/backends\n",
      "  \u001b[31m   \u001b[0m   \u001b[31m   \u001b[0m copying thinc/backends/cblas.pyx -> build/lib.macosx-15.0-arm64-cpython-313/thinc/backends\n",
      "  \u001b[31m   \u001b[0m   \u001b[31m   \u001b[0m copying thinc/backends/cpu_kernels.hh -> build/lib.macosx-15.0-arm64-cpython-313/thinc/backends\n",
      "  \u001b[31m   \u001b[0m   \u001b[31m   \u001b[0m copying thinc/backends/linalg.pxd -> build/lib.macosx-15.0-arm64-cpython-313/thinc/backends\n",
      "  \u001b[31m   \u001b[0m   \u001b[31m   \u001b[0m copying thinc/backends/linalg.pyx -> build/lib.macosx-15.0-arm64-cpython-313/thinc/backends\n",
      "  \u001b[31m   \u001b[0m   \u001b[31m   \u001b[0m copying thinc/backends/numpy_ops.pxd -> build/lib.macosx-15.0-arm64-cpython-313/thinc/backends\n",
      "  \u001b[31m   \u001b[0m   \u001b[31m   \u001b[0m copying thinc/backends/numpy_ops.pyx -> build/lib.macosx-15.0-arm64-cpython-313/thinc/backends\n",
      "  \u001b[31m   \u001b[0m   \u001b[31m   \u001b[0m copying thinc/extra/__init__.pxd -> build/lib.macosx-15.0-arm64-cpython-313/thinc/extra\n",
      "  \u001b[31m   \u001b[0m   \u001b[31m   \u001b[0m copying thinc/extra/search.pxd -> build/lib.macosx-15.0-arm64-cpython-313/thinc/extra\n",
      "  \u001b[31m   \u001b[0m   \u001b[31m   \u001b[0m copying thinc/extra/search.pyx -> build/lib.macosx-15.0-arm64-cpython-313/thinc/extra\n",
      "  \u001b[31m   \u001b[0m   \u001b[31m   \u001b[0m creating build/lib.macosx-15.0-arm64-cpython-313/thinc/tests/mypy/configs\n",
      "  \u001b[31m   \u001b[0m   \u001b[31m   \u001b[0m copying thinc/tests/mypy/configs/mypy-default.ini -> build/lib.macosx-15.0-arm64-cpython-313/thinc/tests/mypy/configs\n",
      "  \u001b[31m   \u001b[0m   \u001b[31m   \u001b[0m copying thinc/tests/mypy/configs/mypy-plugin.ini -> build/lib.macosx-15.0-arm64-cpython-313/thinc/tests/mypy/configs\n",
      "  \u001b[31m   \u001b[0m   \u001b[31m   \u001b[0m creating build/lib.macosx-15.0-arm64-cpython-313/thinc/tests/mypy/outputs\n",
      "  \u001b[31m   \u001b[0m   \u001b[31m   \u001b[0m copying thinc/tests/mypy/outputs/fail-no-plugin.txt -> build/lib.macosx-15.0-arm64-cpython-313/thinc/tests/mypy/outputs\n",
      "  \u001b[31m   \u001b[0m   \u001b[31m   \u001b[0m copying thinc/tests/mypy/outputs/fail-plugin.txt -> build/lib.macosx-15.0-arm64-cpython-313/thinc/tests/mypy/outputs\n",
      "  \u001b[31m   \u001b[0m   \u001b[31m   \u001b[0m copying thinc/tests/mypy/outputs/success-no-plugin.txt -> build/lib.macosx-15.0-arm64-cpython-313/thinc/tests/mypy/outputs\n",
      "  \u001b[31m   \u001b[0m   \u001b[31m   \u001b[0m copying thinc/tests/mypy/outputs/success-plugin.txt -> build/lib.macosx-15.0-arm64-cpython-313/thinc/tests/mypy/outputs\n",
      "  \u001b[31m   \u001b[0m   \u001b[31m   \u001b[0m copying thinc/extra/tests/c_test_search.pyx -> build/lib.macosx-15.0-arm64-cpython-313/thinc/extra/tests\n",
      "  \u001b[31m   \u001b[0m   \u001b[31m   \u001b[0m running build_ext\n",
      "  \u001b[31m   \u001b[0m   \u001b[31m   \u001b[0m building 'thinc.backends.cblas' extension\n",
      "  \u001b[31m   \u001b[0m   \u001b[31m   \u001b[0m creating build/temp.macosx-15.0-arm64-cpython-313/thinc/backends\n",
      "  \u001b[31m   \u001b[0m   \u001b[31m   \u001b[0m clang++ -fno-strict-overflow -Wsign-compare -Wunreachable-code -fno-common -dynamic -DNDEBUG -g -O3 -Wall -I/private/var/folders/xj/1r7q_sfd08s1t_ncz1s8zsyw0000gs/T/pip-build-env-rm55hap7/overlay/lib/python3.13/site-packages/numpy/_core/include -I/opt/homebrew/Cellar/python@3.13/3.13.2/Frameworks/Python.framework/Versions/3.13/include/python3.13 \"-I/Users/JuanCarlos/Library/CloudStorage/Box-Box/U_of_Arizona/INFO 698/Project/capstone/include\" -I/opt/homebrew/opt/python@3.13/Frameworks/Python.framework/Versions/3.13/include/python3.13 -c thinc/backends/cblas.cpp -o build/temp.macosx-15.0-arm64-cpython-313/thinc/backends/cblas.o -O3 -Wno-strict-prototypes -Wno-unused-function -std=c++11\n",
      "  \u001b[31m   \u001b[0m   \u001b[31m   \u001b[0m thinc/backends/cblas.cpp:871:59: warning: 'Py_UNICODE' is deprecated [-Wdeprecated-declarations]\n",
      "  \u001b[31m   \u001b[0m   \u001b[31m   \u001b[0m   871 | static CYTHON_INLINE size_t __Pyx_Py_UNICODE_strlen(const Py_UNICODE *u) {\n",
      "  \u001b[31m   \u001b[0m   \u001b[31m   \u001b[0m       |                                                           ^\n",
      "  \u001b[31m   \u001b[0m   \u001b[31m   \u001b[0m /opt/homebrew/Cellar/python@3.13/3.13.2/Frameworks/Python.framework/Versions/3.13/include/python3.13/cpython/unicodeobject.h:10:1: note: 'Py_UNICODE' has been explicitly marked deprecated here\n",
      "  \u001b[31m   \u001b[0m   \u001b[31m   \u001b[0m    10 | Py_DEPRECATED(3.13) typedef wchar_t Py_UNICODE;\n",
      "  \u001b[31m   \u001b[0m   \u001b[31m   \u001b[0m       | ^\n",
      "  \u001b[31m   \u001b[0m   \u001b[31m   \u001b[0m /opt/homebrew/Cellar/python@3.13/3.13.2/Frameworks/Python.framework/Versions/3.13/include/python3.13/pyport.h:251:54: note: expanded from macro 'Py_DEPRECATED'\n",
      "  \u001b[31m   \u001b[0m   \u001b[31m   \u001b[0m   251 | #define Py_DEPRECATED(VERSION_UNUSED) __attribute__((__deprecated__))\n",
      "  \u001b[31m   \u001b[0m   \u001b[31m   \u001b[0m       |                                                      ^\n",
      "  \u001b[31m   \u001b[0m   \u001b[31m   \u001b[0m thinc/backends/cblas.cpp:872:11: warning: 'Py_UNICODE' is deprecated [-Wdeprecated-declarations]\n",
      "  \u001b[31m   \u001b[0m   \u001b[31m   \u001b[0m   872 |     const Py_UNICODE *u_end = u;\n",
      "  \u001b[31m   \u001b[0m   \u001b[31m   \u001b[0m       |           ^\n",
      "  \u001b[31m   \u001b[0m   \u001b[31m   \u001b[0m /opt/homebrew/Cellar/python@3.13/3.13.2/Frameworks/Python.framework/Versions/3.13/include/python3.13/cpython/unicodeobject.h:10:1: note: 'Py_UNICODE' has been explicitly marked deprecated here\n",
      "  \u001b[31m   \u001b[0m   \u001b[31m   \u001b[0m    10 | Py_DEPRECATED(3.13) typedef wchar_t Py_UNICODE;\n",
      "  \u001b[31m   \u001b[0m   \u001b[31m   \u001b[0m       | ^\n",
      "  \u001b[31m   \u001b[0m   \u001b[31m   \u001b[0m /opt/homebrew/Cellar/python@3.13/3.13.2/Frameworks/Python.framework/Versions/3.13/include/python3.13/pyport.h:251:54: note: expanded from macro 'Py_DEPRECATED'\n",
      "  \u001b[31m   \u001b[0m   \u001b[31m   \u001b[0m   251 | #define Py_DEPRECATED(VERSION_UNUSED) __attribute__((__deprecated__))\n",
      "  \u001b[31m   \u001b[0m   \u001b[31m   \u001b[0m       |                                                      ^\n",
      "  \u001b[31m   \u001b[0m   \u001b[31m   \u001b[0m thinc/backends/cblas.cpp:1908:22: error: use of undeclared identifier '_PyList_Extend'; did you mean 'PyList_Extend'?\n",
      "  \u001b[31m   \u001b[0m   \u001b[31m   \u001b[0m  1908 |     PyObject* none = _PyList_Extend((PyListObject*)L, v);\n",
      "  \u001b[31m   \u001b[0m   \u001b[31m   \u001b[0m       |                      ^~~~~~~~~~~~~~\n",
      "  \u001b[31m   \u001b[0m   \u001b[31m   \u001b[0m       |                      PyList_Extend\n",
      "  \u001b[31m   \u001b[0m   \u001b[31m   \u001b[0m /opt/homebrew/Cellar/python@3.13/3.13.2/Frameworks/Python.framework/Versions/3.13/include/python3.13/cpython/listobject.h:52:17: note: 'PyList_Extend' declared here\n",
      "  \u001b[31m   \u001b[0m   \u001b[31m   \u001b[0m    52 | PyAPI_FUNC(int) PyList_Extend(PyObject *self, PyObject *iterable);\n",
      "  \u001b[31m   \u001b[0m   \u001b[31m   \u001b[0m       |                 ^\n",
      "  \u001b[31m   \u001b[0m   \u001b[31m   \u001b[0m thinc/backends/cblas.cpp:1908:37: error: cannot initialize a parameter of type 'PyObject *' (aka '_object *') with an rvalue of type 'PyListObject *'\n",
      "  \u001b[31m   \u001b[0m   \u001b[31m   \u001b[0m  1908 |     PyObject* none = _PyList_Extend((PyListObject*)L, v);\n",
      "  \u001b[31m   \u001b[0m   \u001b[31m   \u001b[0m       |                                     ^~~~~~~~~~~~~~~~\n",
      "  \u001b[31m   \u001b[0m   \u001b[31m   \u001b[0m /opt/homebrew/Cellar/python@3.13/3.13.2/Frameworks/Python.framework/Versions/3.13/include/python3.13/cpython/listobject.h:52:41: note: passing argument to parameter 'self' here\n",
      "  \u001b[31m   \u001b[0m   \u001b[31m   \u001b[0m    52 | PyAPI_FUNC(int) PyList_Extend(PyObject *self, PyObject *iterable);\n",
      "  \u001b[31m   \u001b[0m   \u001b[31m   \u001b[0m       |                                         ^\n",
      "  \u001b[31m   \u001b[0m   \u001b[31m   \u001b[0m thinc/backends/cblas.cpp:1946:39: error: use of undeclared identifier '_PyInterpreterState_GetConfig'\n",
      "  \u001b[31m   \u001b[0m   \u001b[31m   \u001b[0m  1946 |     __pyx_assertions_enabled_flag = ! _PyInterpreterState_GetConfig(__Pyx_PyThreadState_Current->interp)->optimization_level;\n",
      "  \u001b[31m   \u001b[0m   \u001b[31m   \u001b[0m       |                                       ^\n",
      "  \u001b[31m   \u001b[0m   \u001b[31m   \u001b[0m thinc/backends/cblas.cpp:20354:27: error: no matching function for call to '_PyLong_AsByteArray'\n",
      "  \u001b[31m   \u001b[0m   \u001b[31m   \u001b[0m  20354 |                 int ret = _PyLong_AsByteArray((PyLongObject *)v,\n",
      "  \u001b[31m   \u001b[0m   \u001b[31m   \u001b[0m        |                           ^~~~~~~~~~~~~~~~~~~\n",
      "  \u001b[31m   \u001b[0m   \u001b[31m   \u001b[0m /opt/homebrew/Cellar/python@3.13/3.13.2/Frameworks/Python.framework/Versions/3.13/include/python3.13/cpython/longobject.h:111:17: note: candidate function not viable: requires 6 arguments, but 5 were provided\n",
      "  \u001b[31m   \u001b[0m   \u001b[31m   \u001b[0m   111 | PyAPI_FUNC(int) _PyLong_AsByteArray(PyLongObject* v,\n",
      "  \u001b[31m   \u001b[0m   \u001b[31m   \u001b[0m       |                 ^                   ~~~~~~~~~~~~~~~~\n",
      "  \u001b[31m   \u001b[0m   \u001b[31m   \u001b[0m   112 |     unsigned char* bytes, size_t n,\n",
      "  \u001b[31m   \u001b[0m   \u001b[31m   \u001b[0m       |     ~~~~~~~~~~~~~~~~~~~~~~~~~~~~~~~\n",
      "  \u001b[31m   \u001b[0m   \u001b[31m   \u001b[0m   113 |     int little_endian, int is_signed, int with_exceptions);\n",
      "  \u001b[31m   \u001b[0m   \u001b[31m   \u001b[0m       |     ~~~~~~~~~~~~~~~~~~~~~~~~~~~~~~~~~~~~~~~~~~~~~~~~~~~~~\n",
      "  \u001b[31m   \u001b[0m   \u001b[31m   \u001b[0m thinc/backends/cblas.cpp:20550:27: error: no matching function for call to '_PyLong_AsByteArray'\n",
      "  \u001b[31m   \u001b[0m   \u001b[31m   \u001b[0m  20550 |                 int ret = _PyLong_AsByteArray((PyLongObject *)v,\n",
      "  \u001b[31m   \u001b[0m   \u001b[31m   \u001b[0m        |                           ^~~~~~~~~~~~~~~~~~~\n",
      "  \u001b[31m   \u001b[0m   \u001b[31m   \u001b[0m /opt/homebrew/Cellar/python@3.13/3.13.2/Frameworks/Python.framework/Versions/3.13/include/python3.13/cpython/longobject.h:111:17: note: candidate function not viable: requires 6 arguments, but 5 were provided\n",
      "  \u001b[31m   \u001b[0m   \u001b[31m   \u001b[0m   111 | PyAPI_FUNC(int) _PyLong_AsByteArray(PyLongObject* v,\n",
      "  \u001b[31m   \u001b[0m   \u001b[31m   \u001b[0m       |                 ^                   ~~~~~~~~~~~~~~~~\n",
      "  \u001b[31m   \u001b[0m   \u001b[31m   \u001b[0m   112 |     unsigned char* bytes, size_t n,\n",
      "  \u001b[31m   \u001b[0m   \u001b[31m   \u001b[0m       |     ~~~~~~~~~~~~~~~~~~~~~~~~~~~~~~~\n",
      "  \u001b[31m   \u001b[0m   \u001b[31m   \u001b[0m   113 |     int little_endian, int is_signed, int with_exceptions);\n",
      "  \u001b[31m   \u001b[0m   \u001b[31m   \u001b[0m       |     ~~~~~~~~~~~~~~~~~~~~~~~~~~~~~~~~~~~~~~~~~~~~~~~~~~~~~\n",
      "  \u001b[31m   \u001b[0m   \u001b[31m   \u001b[0m thinc/backends/cblas.cpp:20822:27: error: no matching function for call to '_PyLong_AsByteArray'\n",
      "  \u001b[31m   \u001b[0m   \u001b[31m   \u001b[0m  20822 |                 int ret = _PyLong_AsByteArray((PyLongObject *)v,\n",
      "  \u001b[31m   \u001b[0m   \u001b[31m   \u001b[0m        |                           ^~~~~~~~~~~~~~~~~~~\n",
      "  \u001b[31m   \u001b[0m   \u001b[31m   \u001b[0m /opt/homebrew/Cellar/python@3.13/3.13.2/Frameworks/Python.framework/Versions/3.13/include/python3.13/cpython/longobject.h:111:17: note: candidate function not viable: requires 6 arguments, but 5 were provided\n",
      "  \u001b[31m   \u001b[0m   \u001b[31m   \u001b[0m   111 | PyAPI_FUNC(int) _PyLong_AsByteArray(PyLongObject* v,\n",
      "  \u001b[31m   \u001b[0m   \u001b[31m   \u001b[0m       |                 ^                   ~~~~~~~~~~~~~~~~\n",
      "  \u001b[31m   \u001b[0m   \u001b[31m   \u001b[0m   112 |     unsigned char* bytes, size_t n,\n",
      "  \u001b[31m   \u001b[0m   \u001b[31m   \u001b[0m       |     ~~~~~~~~~~~~~~~~~~~~~~~~~~~~~~~\n",
      "  \u001b[31m   \u001b[0m   \u001b[31m   \u001b[0m   113 |     int little_endian, int is_signed, int with_exceptions);\n",
      "  \u001b[31m   \u001b[0m   \u001b[31m   \u001b[0m       |     ~~~~~~~~~~~~~~~~~~~~~~~~~~~~~~~~~~~~~~~~~~~~~~~~~~~~~\n",
      "  \u001b[31m   \u001b[0m   \u001b[31m   \u001b[0m 2 warnings and 6 errors generated.\n",
      "  \u001b[31m   \u001b[0m   \u001b[31m   \u001b[0m error: command '/usr/bin/clang++' failed with exit code 1\n",
      "  \u001b[31m   \u001b[0m   \u001b[31m   \u001b[0m \u001b[31m[end of output]\u001b[0m\n",
      "  \u001b[31m   \u001b[0m \n",
      "  \u001b[31m   \u001b[0m   \u001b[1;35mnote\u001b[0m: This error originates from a subprocess, and is likely not a problem with pip.\n",
      "  \u001b[31m   \u001b[0m \u001b[31m  ERROR: Failed building wheel for thinc\u001b[0m\u001b[31m\n",
      "  \u001b[31m   \u001b[0m \u001b[0mFailed to build thinc\n",
      "  \u001b[31m   \u001b[0m \u001b[31mERROR: Failed to build installable wheels for some pyproject.toml based projects (thinc)\u001b[0m\u001b[31m\n",
      "  \u001b[31m   \u001b[0m \u001b[0m\n",
      "  \u001b[31m   \u001b[0m \u001b[31m[end of output]\u001b[0m\n",
      "  \n",
      "  \u001b[1;35mnote\u001b[0m: This error originates from a subprocess, and is likely not a problem with pip.\n",
      "\u001b[1;31merror\u001b[0m: \u001b[1msubprocess-exited-with-error\u001b[0m\n",
      "\n",
      "\u001b[31m×\u001b[0m \u001b[32mpip subprocess to install build dependencies\u001b[0m did not run successfully.\n",
      "\u001b[31m│\u001b[0m exit code: \u001b[1;36m1\u001b[0m\n",
      "\u001b[31m╰─>\u001b[0m See above for output.\n",
      "\n",
      "\u001b[1;35mnote\u001b[0m: This error originates from a subprocess, and is likely not a problem with pip.\n",
      "\u001b[?25h"
     ]
    }
   ],
   "source": [
    "!pip install --upgrade spacy"
   ]
  },
  {
   "cell_type": "markdown",
   "metadata": {
    "deletable": false,
    "editable": false,
    "id": "CiDmhyRWyCxx"
   },
   "source": [
    "# Text Acquisition and Pre-processing\n",
    "\n",
    "In this assignment you will practice obtaining, extracting, cleaning and pre-processing text from an online source. The objective is to obtain the text from a web page and generate a **pandas** DataFrame containing the text segmented, tokenized and with different types of linguistic annotations.\n",
    "\n",
    "You will work with the following objects and functions:"
   ]
  },
  {
   "cell_type": "code",
   "execution_count": 2,
   "metadata": {
    "deletable": false,
    "editable": false,
    "executionInfo": {
     "elapsed": 13095,
     "status": "ok",
     "timestamp": 1700095535464,
     "user": {
      "displayName": "Juan Carlos De Orellana Sánchez",
      "userId": "05695545686795962993"
     },
     "user_tz": 420
    },
    "id": "1HdLtovtyCx1",
    "scrolled": true
   },
   "outputs": [
    {
     "ename": "ModuleNotFoundError",
     "evalue": "No module named 'spacy'",
     "output_type": "error",
     "traceback": [
      "\u001b[31m---------------------------------------------------------------------------\u001b[39m",
      "\u001b[31mModuleNotFoundError\u001b[39m                       Traceback (most recent call last)",
      "\u001b[36mCell\u001b[39m\u001b[36m \u001b[39m\u001b[32mIn[2]\u001b[39m\u001b[32m, line 3\u001b[39m\n\u001b[32m      1\u001b[39m \u001b[38;5;28;01mimport\u001b[39;00m\u001b[38;5;250m \u001b[39m\u001b[34;01mre\u001b[39;00m\n\u001b[32m      2\u001b[39m \u001b[38;5;28;01mimport\u001b[39;00m\u001b[38;5;250m \u001b[39m\u001b[34;01mpandas\u001b[39;00m\u001b[38;5;250m \u001b[39m\u001b[38;5;28;01mas\u001b[39;00m\u001b[38;5;250m \u001b[39m\u001b[34;01mpd\u001b[39;00m\n\u001b[32m----> \u001b[39m\u001b[32m3\u001b[39m \u001b[38;5;28;01mimport\u001b[39;00m\u001b[38;5;250m \u001b[39m\u001b[34;01mspacy\u001b[39;00m\n\u001b[32m      4\u001b[39m \u001b[38;5;28;01mfrom\u001b[39;00m\u001b[38;5;250m \u001b[39m\u001b[34;01mspacy\u001b[39;00m\u001b[34;01m.\u001b[39;00m\u001b[34;01mtokenizer\u001b[39;00m\u001b[38;5;250m \u001b[39m\u001b[38;5;28;01mimport\u001b[39;00m Tokenizer\n\u001b[32m      5\u001b[39m \u001b[38;5;28;01mfrom\u001b[39;00m\u001b[38;5;250m \u001b[39m\u001b[34;01mbs4\u001b[39;00m\u001b[38;5;250m \u001b[39m\u001b[38;5;28;01mimport\u001b[39;00m BeautifulSoup\n",
      "\u001b[31mModuleNotFoundError\u001b[39m: No module named 'spacy'"
     ]
    }
   ],
   "source": [
    "import re\n",
    "import pandas as pd\n",
    "import spacy\n",
    "from spacy.tokenizer import Tokenizer\n",
    "from bs4 import BeautifulSoup"
   ]
  },
  {
   "cell_type": "markdown",
   "metadata": {
    "deletable": false,
    "editable": false,
    "id": "vKLHVtzIyCx2"
   },
   "source": [
    "## Text Extraction\n",
    "\n",
    "The text you are going to work with corresponds to the following post from the Food and Agriculture Organization of the United Nations website: [World food prices dip in December](https://www.fao.org/newsroom/detail/world-food-prices-dip-in-december/en).\n",
    "\n",
    "In a more realistic scenario, you should download the html document yourself. This could be done with the following code snippet:\n",
    "\n",
    ">```python\n",
    "import requests\n",
    "URL = \"https://www.fao.org/newsroom/detail/world-food-prices-dip-in-december/en\"\n",
    "page = requests.get(URL)\n",
    "html_content = page.content\n",
    "\n",
    "However, for this assignment, you are provided with the downloaded document. The file`world-food-prices.html` can be found in the same directory as this notebook and it can be opened as a regular text file:"
   ]
  },
  {
   "cell_type": "code",
   "execution_count": null,
   "metadata": {
    "colab": {
     "base_uri": "https://localhost:8080/",
     "height": 137
    },
    "deletable": false,
    "editable": false,
    "executionInfo": {
     "elapsed": 412,
     "status": "ok",
     "timestamp": 1700095535464,
     "user": {
      "displayName": "Juan Carlos De Orellana Sánchez",
      "userId": "05695545686795962993"
     },
     "user_tz": 420
    },
    "id": "6d3-sAvKyCx3",
    "outputId": "4b63a532-f668-4afd-ad91-83054a23b8ab"
   },
   "outputs": [],
   "source": [
    "with open(\"world-food-prices.html\", encoding=\"utf8\") as html_file:\n",
    "    html_content = html_file.read()\n",
    "html_content[:1500]"
   ]
  },
  {
   "cell_type": "markdown",
   "metadata": {
    "deletable": false,
    "editable": false,
    "id": "ZBYr2ydJyCx3"
   },
   "source": [
    "As you can see the document contains a lot of html tags as well as some **javascript** code. The text also includes fields that are not of interest, such as the navigation menu of the web page. The goal of the first step in this assignment is to extract only the text from the body of the post.\n",
    "\n",
    "To do this, you must complete the code for the `extract_text` function. This function should parse the content of the html document using the **BeatifulSoup** library, find the html element containing the text of the body of the post, and extract such text. The body of the post is contained by the element with the following **id**: `\"Contentplaceholder1_C011_Col00\"`. Review the [BeautifullSoup documentation](https://beautiful-soup-4.readthedocs.io/en/latest/index.html) to learn how to perform these steps.\n",
    "\n",
    "\n",
    "The function must return the text extracted of which the first 579 characters should look like this:\n",
    "\n",
    "\n",
    "><pre>'\\n\\n\\n\\n\\n\\n\\n\\n\\n\\nWorld food prices dip in December\\nFAO Food Price Index ends 2022 lower than a year earlier\\n\\n\\n\\n\\n                                A farmer in Sicily carrying wheat seeds.\\n                             \\n\\n©FAO/Giorgio Cosulich \\n\\n\\n\\n\\n06/01/2023\\n\\n\\nRome – The index of world food prices dipped for the ninth consecutive month in December 2022, declining by 1.9 percent from the previous month, the Food and Agriculture Organization of the United Nations (FAO) reported today. The FAO Food Price Index averaged 132.4 points in December, 1.0 percent below its value a year earlier.'</pre>"
   ]
  },
  {
   "cell_type": "code",
   "execution_count": null,
   "metadata": {
    "executionInfo": {
     "elapsed": 407,
     "status": "ok",
     "timestamp": 1700095535464,
     "user": {
      "displayName": "Juan Carlos De Orellana Sánchez",
      "userId": "05695545686795962993"
     },
     "user_tz": 420
    },
    "id": "ynINIAB2yCx4"
   },
   "outputs": [],
   "source": [
    "def extract_text(html_content):\n",
    "    from bs4 import SoupStrainer\n",
    "    post_body_parser = SoupStrainer(id=\"Contentplaceholder1_C011_Col00\")\n",
    "    soup = BeautifulSoup(html_content, 'html.parser', parse_only = post_body_parser)\n",
    "    return soup.get_text()"
   ]
  },
  {
   "cell_type": "code",
   "execution_count": null,
   "metadata": {
    "colab": {
     "base_uri": "https://localhost:8080/",
     "height": 103
    },
    "deletable": false,
    "editable": false,
    "executionInfo": {
     "elapsed": 407,
     "status": "ok",
     "timestamp": 1700095535465,
     "user": {
      "displayName": "Juan Carlos De Orellana Sánchez",
      "userId": "05695545686795962993"
     },
     "user_tz": 420
    },
    "id": "wINlFKhoyCx4",
    "outputId": "82c31f2b-4c74-47ff-ebc2-73700485535b"
   },
   "outputs": [],
   "source": [
    "text = extract_text(html_content)\n",
    "text[:580]"
   ]
  },
  {
   "cell_type": "markdown",
   "metadata": {
    "deletable": false,
    "editable": false,
    "id": "HSlt7l6DyCx4"
   },
   "source": [
    "## Text Cleanup\n",
    "\n",
    "The text extracted by `extract_text` is not still ready to use. It contains several newline characters and additional spaces that make the text noisy. In the next step of the assignment, you must complete the code for the function `clean_text`. The function should take the text and delete all those newline characters and extra blank spaces. The function should also add a period to the end of those sentences that do not originally contain it, for example, `World food prices dip in December` or `06/01/2023`.\n",
    "\n",
    "You can solve this exercise using the **Python** built-in [string methods](https://docs.python.org/3.9/library/stdtypes.html?highlight=replace#str), such as `replace`, or by [regular expressions](https://docs.python.org/3.9/library/re.html?highlight=re#module-re).\n",
    "\n",
    "The `extract_text` function must return the cleaned text of which the first 499 characters should look like this:\n",
    "\n",
    ">'World food prices dip in December. FAO Food Price Index ends 2022 lower than a year earlier. A farmer in Sicily carrying wheat seeds. ©FAO/Giorgio Cosulich. 06/01/2023. Rome – The index of world food prices dipped for the ninth consecutive month in December 2022, declining by 1.9 percent from the previous month, the Food and Agriculture Organization of the United Nations (FAO) reported today. The FAO Food Price Index averaged 132.4 points in December, 1.0 percent below its value a year earlier.'"
   ]
  },
  {
   "cell_type": "code",
   "execution_count": null,
   "metadata": {
    "executionInfo": {
     "elapsed": 168,
     "status": "ok",
     "timestamp": 1700096173696,
     "user": {
      "displayName": "Juan Carlos De Orellana Sánchez",
      "userId": "05695545686795962993"
     },
     "user_tz": 420
    },
    "id": "U9YrXWx4yCx4"
   },
   "outputs": [],
   "source": [
    "def clean_text(text):\n",
    "\n",
    "    pattern = r'(?<=\\w)\\s(?=\\n)'\n",
    "    clnd_text = re.sub(pattern, '. ', text)\n",
    "\n",
    "    pattern2 = r'(?<=\\w)\\n'\n",
    "    processed_txt = re.sub(pattern2, '. ', clnd_text)\n",
    "    cleaned_string = re.sub(r'\\s+', ' ', processed_txt).strip()\n",
    "\n",
    "\n",
    "\n",
    "    return cleaned_string"
   ]
  },
  {
   "cell_type": "code",
   "execution_count": null,
   "metadata": {
    "colab": {
     "base_uri": "https://localhost:8080/",
     "height": 86
    },
    "deletable": false,
    "editable": false,
    "executionInfo": {
     "elapsed": 336,
     "status": "ok",
     "timestamp": 1700096174687,
     "user": {
      "displayName": "Juan Carlos De Orellana Sánchez",
      "userId": "05695545686795962993"
     },
     "user_tz": 420
    },
    "id": "AKH8m2n2yCx5",
    "outputId": "4b98c580-2dcd-4652-922d-de8d9d1884a5"
   },
   "outputs": [],
   "source": [
    "cleaned_text = clean_text(text)\n",
    "cleaned_text[:499]"
   ]
  },
  {
   "cell_type": "markdown",
   "metadata": {
    "deletable": false,
    "editable": false,
    "id": "NYhALK_iyCx5"
   },
   "source": [
    "## Pre-processing\n",
    "\n",
    "Once the text has been extracted and cleaned up, the next step you must take is to pre-process it. For this, in this assignment, you are going to use the [spaCy](https://spacy.io/) library. This library is an advanced NLP toolkit that allows to execute various pre-processing steps as well as different NLP tasks. **spaCy** provides trained [pipelines](https://spacy.io/usage/processing-pipelines) for a variety of languages that can be installed as individual **Python** modules and include [linguistic featues](https://spacy.io/usage/linguistic-features) such as:\n",
    "\n",
    "- Sentence Segmentation\n",
    "- Tokenization\n",
    "- Stemming and Lemmatization\n",
    "- Stopwords\n",
    "- Part-of-speech tagging\n",
    "- Syntactic dependency parsing\n",
    "- Named Entity Recognition\n",
    "- Word Embeddings\n",
    "\n",
    "In this exercise, you will work with the [English pipeline optimized for CPU](https://spacy.io/models/en#en_core_web_sm) that can be loaded as follows:"
   ]
  },
  {
   "cell_type": "code",
   "execution_count": null,
   "metadata": {
    "deletable": false,
    "editable": false,
    "executionInfo": {
     "elapsed": 1333,
     "status": "ok",
     "timestamp": 1700095536393,
     "user": {
      "displayName": "Juan Carlos De Orellana Sánchez",
      "userId": "05695545686795962993"
     },
     "user_tz": 420
    },
    "id": "7kpCFum5yCx5"
   },
   "outputs": [],
   "source": [
    "nlp = spacy.load(\"en_core_web_sm\")"
   ]
  },
  {
   "cell_type": "markdown",
   "metadata": {
    "deletable": false,
    "editable": false,
    "id": "tXFU_urLyCx5"
   },
   "source": [
    "You must complete the code for the `preprocess_text` function. This function takes the text and a **spaCy** pipeline as input and should run that pipeline on the text. The function must return a [Doc](https://spacy.io/api/doc) object. Check the [spaCy 101](https://spacy.io/usage/spacy-101) documentation to learn how to apply the pipeline."
   ]
  },
  {
   "cell_type": "code",
   "execution_count": null,
   "metadata": {
    "executionInfo": {
     "elapsed": 7,
     "status": "ok",
     "timestamp": 1700095536393,
     "user": {
      "displayName": "Juan Carlos De Orellana Sánchez",
      "userId": "05695545686795962993"
     },
     "user_tz": 420
    },
    "id": "6ueoMnycyCx5"
   },
   "outputs": [],
   "source": [
    "def process_text(text, nlp):\n",
    "\n",
    "    processed_text = nlp(text) # Calls the nlp object on the text.\n",
    "\n",
    "    return processed_text # returns the processed Doc object from text"
   ]
  },
  {
   "cell_type": "code",
   "execution_count": null,
   "metadata": {
    "colab": {
     "base_uri": "https://localhost:8080/"
    },
    "deletable": false,
    "editable": false,
    "executionInfo": {
     "elapsed": 373,
     "status": "ok",
     "timestamp": 1700095536761,
     "user": {
      "displayName": "Juan Carlos De Orellana Sánchez",
      "userId": "05695545686795962993"
     },
     "user_tz": 420
    },
    "id": "vSXSGkERyCx6",
    "outputId": "b4406ab7-fbb9-43f4-ec67-7dae53b3bcc0"
   },
   "outputs": [],
   "source": [
    "doc = process_text(cleaned_text, nlp)\n",
    "all(map(doc.has_annotation, [\"LEMMA\", \"POS\", \"ENT_TYPE\"]))"
   ]
  },
  {
   "cell_type": "markdown",
   "metadata": {
    "deletable": false,
    "editable": false,
    "id": "QOO6jgEVyCx6"
   },
   "source": [
    "## Creating a DataFrame\n",
    "\n",
    "In the next exercise, you will create a [pandas DataFrame](https://pandas.pydata.org/docs/reference/api/pandas.DataFrame.html) that will contain some of the linguistic annotations from the `Doc` object obtained in the previous step. Loading the data into a `DataFrame` provides some advantages such as a better integration with other **Python** machine learning libraries or the option to save the data in a csv file.\n",
    "\n",
    "The goal is to create a `DataFrame` that contains a row per each token in the `Doc` and the following columns:\n",
    "- *sent_id*: The id of the sentence the token belongs to. It represents the position of the sentence in the `Doc`, starting by 0.\n",
    "- *token_id*: The id of the token. It represents the position of the token in the sentence, starting by 0.\n",
    "- *text*: The original text of the token.\n",
    "- *lemma*: The lemmatization of the token.\n",
    "- *pos*: The part-of-speech of the token.\n",
    "- *ent*: The entity type of the token returned by the Named Entity Recognition component.\n",
    "\n",
    "You must complete the code for the `to_dataframe` function. This function takes the [Doc](https://spacy.io/api/doc) object and must return the `DataFrame` described above. The function should iterate over the sentences in the `Doc` (each sentence is a [Span](https://spacy.io/api/span) object) and, for each sentence, it should iterate over its tokens (each token is a [Token](https://spacy.io/api/token) object). For each token, `to_dataframe` should obtain the values to fill the *text*, *lemma*, *pos* and *ent* columns of the `DataFrame`. For example, the content of the `DataFrame` for the setence with *sent_id* equal to 1, corresponding to the second sentence in the `Doc`, should look like this:\n",
    "\n",
    "|    |   sent_id |   token_id | text    | lemma   | pos   | ent   |\n",
    "|---:|----------:|-----------:|:--------|:--------|:------|:------|\n",
    "|  7 |         1 |          0 | FAO     | FAO     | PROPN | ORG   |\n",
    "|  8 |         1 |          1 | Food    | Food    | PROPN | ORG   |\n",
    "|  9 |         1 |          2 | Price   | Price   | PROPN | ORG   |\n",
    "| 10 |         1 |          3 | Index   | Index   | PROPN | ORG   |\n",
    "| 11 |         1 |          4 | ends    | end     | VERB  |       |\n",
    "| 12 |         1 |          5 | 2022    | 2022    | NUM   | DATE  |\n",
    "| 13 |         1 |          6 | lower   | low     | ADJ   |       |\n",
    "| 14 |         1 |          7 | than    | than    | ADP   |       |\n",
    "| 15 |         1 |          8 | a       | a       | DET   | DATE  |\n",
    "| 16 |         1 |          9 | year    | year    | NOUN  | DATE  |\n",
    "| 17 |         1 |         10 | earlier | early   | ADV   | DATE  |\n",
    "| 18 |         1 |         11 | .       | .       | PUNCT |       |\n"
   ]
  },
  {
   "cell_type": "code",
   "execution_count": null,
   "metadata": {
    "executionInfo": {
     "elapsed": 148,
     "status": "ok",
     "timestamp": 1700095536761,
     "user": {
      "displayName": "Juan Carlos De Orellana Sánchez",
      "userId": "05695545686795962993"
     },
     "user_tz": 420
    },
    "id": "cQEQn4g3yCx6"
   },
   "outputs": [],
   "source": [
    "def to_dataframe(doc):\n",
    "\n",
    "    data = []\n",
    "\n",
    "    # Initialize counters for sent_id and token_id\n",
    "    sent_id = 0\n",
    "\n",
    "    # Iterate over sentences in the Doc\n",
    "    for sent in doc.sents:\n",
    "        for token_id, token in enumerate(sent):\n",
    "            # Append token information to the data list\n",
    "            data.append([sent_id, token_id, token.text, token.lemma_, token.pos_, token.ent_type_])\n",
    "\n",
    "        # Increment the sentence ID after processing a sentence\n",
    "        sent_id += 1\n",
    "\n",
    "    # Create a DataFrame from the data list\n",
    "    df = pd.DataFrame(data, columns=[\"sent_id\", \"token_id\", \"text\", \"lemma\", \"pos\", \"ent\"])\n",
    "\n",
    "    return df"
   ]
  },
  {
   "cell_type": "code",
   "execution_count": null,
   "metadata": {
    "colab": {
     "base_uri": "https://localhost:8080/",
     "height": 421
    },
    "deletable": false,
    "editable": false,
    "executionInfo": {
     "elapsed": 147,
     "status": "ok",
     "timestamp": 1700095536761,
     "user": {
      "displayName": "Juan Carlos De Orellana Sánchez",
      "userId": "05695545686795962993"
     },
     "user_tz": 420
    },
    "id": "87HfhzeMyCx6",
    "outputId": "0d5b96e1-b066-41ed-d6c9-15fc6e395a39"
   },
   "outputs": [],
   "source": [
    "df = to_dataframe(doc)\n",
    "df[df.sent_id == 1]"
   ]
  },
  {
   "cell_type": "markdown",
   "metadata": {
    "deletable": false,
    "editable": false,
    "id": "-6nLqo9HyCx7"
   },
   "source": [
    "## Cutomizing the Tokenizer\n",
    "\n",
    "The default components of a **spaCy** pipeline will not always behave according to the needs of your projects. For example, the default tokenizer of the `en_core_web_sm` pipeline does not always splits dates in `month/day/year` format into `month`, `day` and `year`. This is the case for the sentence with *sent_id* equal to 4 that only includes a date in that format:\n",
    "\n",
    "|    |   sent_id |   token_id | text       | lemma      | pos   | ent   |\n",
    "|---:|----------:|-----------:|:-----------|:-----------|:------|:------|\n",
    "| 32 |         4 |          0 | 06/01/2023 | 06/01/2023 | NUM   |       |\n",
    "| 33 |         4 |          1 | .          | .          | PUNCT |       |\n",
    "\n",
    "The goal of the last exercise of this task is to update the `en_core_web_sm` pipeline with a custom tokenizer that forces the splitting of dates in `month/day/year` format so that the sentence above looks like this:\n",
    "\n",
    "|    |   sent_id |   token_id | text   | lemma   | pos   | ent      |\n",
    "|---:|----------:|-----------:|:-------|:--------|:------|:---------|\n",
    "| 32 |         4 |          0 | 06     | 06      | NUM   | CARDINAL |\n",
    "| 33 |         4 |          1 | /      | /       | SYM   |          |\n",
    "| 34 |         4 |          2 | 01     | 01      | NUM   |          |\n",
    "| 35 |         4 |          3 | /      | /       | SYM   |          |\n",
    "| 36 |         4 |          4 | 2023   | 2023    | NUM   |          |\n",
    "| 37 |         4 |          5 | .      | .       | PUNCT |          |\n",
    "\n",
    "You must complete the code for the `customize_tokenizer` function. The function takes the **spaCy** pipeline as input. It should updated the infixes rules of the tokenizer and return the updated version of the pipeline including the customized tokenizer. The `Tokenizer` must keep the default vocabulary and all the default prefixes, infixes and suffixes rules of the pipeline. You should only update the infixes rules adding a regular expression that captures slash (`/`) characters. The `Tokenizer` should **not** include special cases or rules for token and url matching. Check the [spacy's documentation](https://spacy.io/usage/linguistic-features#native-tokenizers) to learn how to customize the tokenizer."
   ]
  },
  {
   "cell_type": "code",
   "execution_count": null,
   "metadata": {
    "executionInfo": {
     "elapsed": 146,
     "status": "ok",
     "timestamp": 1700095536761,
     "user": {
      "displayName": "Juan Carlos De Orellana Sánchez",
      "userId": "05695545686795962993"
     },
     "user_tz": 420
    },
    "id": "vXAeBxnjyCx7"
   },
   "outputs": [],
   "source": [
    "def customize_tokenizer(nlp):\n",
    "    infixes = list(nlp.Defaults.infixes)\n",
    "    infixes.append(r'(?<=\\d)/(?=\\d)')\n",
    "    infixes = tuple(infixes)\n",
    "\n",
    "    tokenizer = Tokenizer(\n",
    "        nlp.vocab,\n",
    "        prefix_search=nlp.tokenizer.prefix_search,\n",
    "        suffix_search=nlp.tokenizer.suffix_search,\n",
    "        infix_finditer=spacy.util.compile_infix_regex(infixes).finditer,\n",
    "        token_match=None,\n",
    "        url_match=None\n",
    "    )\n",
    "\n",
    "\n",
    "    nlp.tokenizer = tokenizer\n",
    "\n",
    "    return nlp"
   ]
  },
  {
   "cell_type": "code",
   "execution_count": null,
   "metadata": {
    "colab": {
     "base_uri": "https://localhost:8080/",
     "height": 1000
    },
    "deletable": false,
    "editable": false,
    "executionInfo": {
     "elapsed": 292,
     "status": "ok",
     "timestamp": 1700095536908,
     "user": {
      "displayName": "Juan Carlos De Orellana Sánchez",
      "userId": "05695545686795962993"
     },
     "user_tz": 420
    },
    "id": "7q4DPUpnyCx7",
    "outputId": "e43552b5-4600-41b5-ee51-a6ff4e4b2657"
   },
   "outputs": [],
   "source": [
    "customized_nlp = customize_tokenizer(nlp)\n",
    "doc = process_text(cleaned_text, customized_nlp)\n",
    "df = to_dataframe(doc)\n",
    "df[df.sent_id == 4]"
   ]
  },
  {
   "cell_type": "code",
   "execution_count": null,
   "metadata": {
    "executionInfo": {
     "elapsed": 133,
     "status": "ok",
     "timestamp": 1700095536908,
     "user": {
      "displayName": "Juan Carlos De Orellana Sánchez",
      "userId": "05695545686795962993"
     },
     "user_tz": 420
    },
    "id": "rso8kSXxyCx7"
   },
   "outputs": [],
   "source": []
  }
 ],
 "metadata": {
  "colab": {
   "provenance": []
  },
  "kernelspec": {
   "display_name": "Python 3 (ipykernel)",
   "language": "python",
   "name": "python3"
  },
  "language_info": {
   "codemirror_mode": {
    "name": "ipython",
    "version": 3
   },
   "file_extension": ".py",
   "mimetype": "text/x-python",
   "name": "python",
   "nbconvert_exporter": "python",
   "pygments_lexer": "ipython3",
   "version": "3.13.2"
  }
 },
 "nbformat": 4,
 "nbformat_minor": 4
}
