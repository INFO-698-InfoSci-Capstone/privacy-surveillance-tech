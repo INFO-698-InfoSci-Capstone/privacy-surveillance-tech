{
 "cells": [
  {
   "cell_type": "code",
   "execution_count": 1,
   "id": "65b0c8fc-ac64-496a-8edb-d92978744aae",
   "metadata": {},
   "outputs": [],
   "source": [
    "# !pip install langdetect"
   ]
  },
  {
   "cell_type": "code",
   "execution_count": 8,
   "id": "bf6778ec-77d0-409c-bc3f-1b96a91a5809",
   "metadata": {},
   "outputs": [],
   "source": [
    "import os\n",
    "import re\n",
    "import shutil\n",
    "import numpy as np\n",
    "from bs4 import BeautifulSoup\n",
    "from langdetect import detect, DetectorFactory"
   ]
  },
  {
   "cell_type": "markdown",
   "id": "676827b2-57ed-44e7-ae2a-8c44d8ce2264",
   "metadata": {},
   "source": [
    "### 1. Organize File Paths"
   ]
  },
  {
   "cell_type": "code",
   "execution_count": 3,
   "id": "ec0ffe41-9bf9-4107-a6ee-d85b97df6822",
   "metadata": {},
   "outputs": [],
   "source": [
    "INPUT_TXT_DIR = 'privacy-surveillance-tech/analysis/data/derivedData/meta_comm_stndrds_sites/UNIQUE_FILES_TXT'\n",
    "OUTPUT_TXT_DIR = os.path.join(INPUT_TXT_DIR, 'ENG_FILES_TXT')   # keep it nested"
   ]
  },
  {
   "cell_type": "code",
   "execution_count": 4,
   "id": "2140927f-9119-4cff-a7cb-530822d31118",
   "metadata": {},
   "outputs": [],
   "source": [
    "DetectorFactory.seed = 0 #set a seed for reproducible language detection\n",
    "\n",
    "def is_english(text: str) -> bool:\n",
    "    \"\"\"\n",
    "    Returns True if `text` is detected as English;\n",
    "    False on failure or other lang.\n",
    "    \"\"\"\n",
    "    try:\n",
    "        return detect(text) == 'en'   # sample first 10 000 chars\n",
    "    except Exception:\n",
    "        return False"
   ]
  },
  {
   "cell_type": "code",
   "execution_count": 5,
   "id": "5427e589-d3c9-44b6-98ca-444fe3395d08",
   "metadata": {},
   "outputs": [],
   "source": [
    "def load_if_english(path: str):\n",
    "    with open(path, encoding='utf-8') as fh:\n",
    "        txt = fh.read()\n",
    "    \n",
    "    # Check if it's English\n",
    "    if not is_english(txt):\n",
    "        return None  \n",
    "    \n",
    "    return txt"
   ]
  },
  {
   "cell_type": "code",
   "execution_count": 6,
   "id": "b0664b87-1639-4776-a6b5-220c0fe1ee3d",
   "metadata": {},
   "outputs": [
    {
     "name": "stdout",
     "output_type": "stream",
     "text": [
      "Done. English files found: 34\n"
     ]
    }
   ],
   "source": [
    "english_files = [] # paths of English‑language files\n",
    "\n",
    "for fname in os.listdir(INPUT_TXT_DIR):\n",
    "    if not fname.lower().endswith('.txt'):\n",
    "        continue                               # skip non‑txt files\n",
    "    full_path = os.path.join(INPUT_TXT_DIR, fname)\n",
    "    if load_if_english(full_path) is not None:\n",
    "        english_files.append(full_path)\n",
    "\n",
    "english_files.sort()\n",
    "print(f\"Done. English files found: {len(english_files)}\")"
   ]
  },
  {
   "cell_type": "code",
   "execution_count": 9,
   "id": "54ac917d-2dc6-4cff-b9b3-4e8807fae9fa",
   "metadata": {},
   "outputs": [
    {
     "name": "stdout",
     "output_type": "stream",
     "text": [
      "Copied 34 files to privacy-surveillance-tech/analysis/data/derivedData/meta_comm_stndrds_sites/UNIQUE_FILES_TXT/ENG_FILES_TXT\n"
     ]
    }
   ],
   "source": [
    "## Copy English files into output directory\n",
    "\n",
    "os.makedirs(OUTPUT_TXT_DIR, exist_ok=True) # ensure destination exists\n",
    "\n",
    "for src_path in english_files:\n",
    "    fname = os.path.basename(src_path)   # just the filename\n",
    "    dst_path = os.path.join(OUTPUT_TXT_DIR, fname)\n",
    "    if not os.path.exists(dst_path):\n",
    "        shutil.copy2(src_path, dst_path)     # should I use or shutil.move(...) to relocate instead?\n",
    "\n",
    "print(f\"Copied {len(english_files)} files to {OUTPUT_TXT_DIR}\")"
   ]
  }
 ],
 "metadata": {
  "kernelspec": {
   "display_name": "Python 3 (ipykernel)",
   "language": "python",
   "name": "python3"
  },
  "language_info": {
   "codemirror_mode": {
    "name": "ipython",
    "version": 3
   },
   "file_extension": ".py",
   "mimetype": "text/x-python",
   "name": "python",
   "nbconvert_exporter": "python",
   "pygments_lexer": "ipython3",
   "version": "3.13.2"
  }
 },
 "nbformat": 4,
 "nbformat_minor": 5
}
